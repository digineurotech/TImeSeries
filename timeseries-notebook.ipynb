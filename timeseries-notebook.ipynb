{
 "cells": [
  {
   "cell_type": "code",
   "execution_count": 1,
   "id": "2ba5d349",
   "metadata": {
    "_cell_guid": "b1076dfc-b9ad-4769-8c92-a6c4dae69d19",
    "_uuid": "8f2839f25d086af736a60e9eeb907d3b93b6e0e5",
    "execution": {
     "iopub.execute_input": "2023-06-13T19:49:24.422205Z",
     "iopub.status.busy": "2023-06-13T19:49:24.421820Z",
     "iopub.status.idle": "2023-06-13T19:49:24.443547Z",
     "shell.execute_reply": "2023-06-13T19:49:24.442080Z"
    },
    "papermill": {
     "duration": 0.039105,
     "end_time": "2023-06-13T19:49:24.445928",
     "exception": false,
     "start_time": "2023-06-13T19:49:24.406823",
     "status": "completed"
    },
    "tags": []
   },
   "outputs": [
    {
     "name": "stdout",
     "output_type": "stream",
     "text": [
      "/kaggle/input/timeseries/tesla.csv\n",
      "/kaggle/input/timeseries/Google_test_data.csv\n",
      "/kaggle/input/timeseries/Google_train_data.csv\n"
     ]
    }
   ],
   "source": [
    "# This Python 3 environment comes with many helpful analytics libraries installed\n",
    "# It is defined by the kaggle/python Docker image: https://github.com/kaggle/docker-python\n",
    "# For example, here's several helpful packages to load\n",
    "\n",
    "import numpy as np # linear algebra\n",
    "import pandas as pd # data processing, CSV file I/O (e.g. pd.read_csv)\n",
    "\n",
    "# Input data files are available in the read-only \"../input/\" directory\n",
    "# For example, running this (by clicking run or pressing Shift+Enter) will list all files under the input directory\n",
    "\n",
    "import os\n",
    "for dirname, _, filenames in os.walk('/kaggle/input'):\n",
    "    for filename in filenames:\n",
    "        print(os.path.join(dirname, filename))\n",
    "\n",
    "# You can write up to 20GB to the current directory (/kaggle/working/) that gets preserved as output when you create a version using \"Save & Run All\" \n",
    "# You can also write temporary files to /kaggle/temp/, but they won't be saved outside of the current session"
   ]
  },
  {
   "cell_type": "code",
   "execution_count": 2,
   "id": "d89086bb",
   "metadata": {
    "execution": {
     "iopub.execute_input": "2023-06-13T19:49:24.469935Z",
     "iopub.status.busy": "2023-06-13T19:49:24.469535Z",
     "iopub.status.idle": "2023-06-13T19:49:35.696650Z",
     "shell.execute_reply": "2023-06-13T19:49:35.695471Z"
    },
    "papermill": {
     "duration": 11.242557,
     "end_time": "2023-06-13T19:49:35.699674",
     "exception": false,
     "start_time": "2023-06-13T19:49:24.457117",
     "status": "completed"
    },
    "tags": []
   },
   "outputs": [
    {
     "name": "stderr",
     "output_type": "stream",
     "text": [
      "/opt/conda/lib/python3.10/site-packages/tensorflow_io/python/ops/__init__.py:98: UserWarning: unable to load libtensorflow_io_plugins.so: unable to open file: libtensorflow_io_plugins.so, from paths: ['/opt/conda/lib/python3.10/site-packages/tensorflow_io/python/ops/libtensorflow_io_plugins.so']\n",
      "caused by: ['/opt/conda/lib/python3.10/site-packages/tensorflow_io/python/ops/libtensorflow_io_plugins.so: undefined symbol: _ZN3tsl6StatusC1EN10tensorflow5error4CodeESt17basic_string_viewIcSt11char_traitsIcEENS_14SourceLocationE']\n",
      "  warnings.warn(f\"unable to load libtensorflow_io_plugins.so: {e}\")\n",
      "/opt/conda/lib/python3.10/site-packages/tensorflow_io/python/ops/__init__.py:104: UserWarning: file system plugins are not loaded: unable to open file: libtensorflow_io.so, from paths: ['/opt/conda/lib/python3.10/site-packages/tensorflow_io/python/ops/libtensorflow_io.so']\n",
      "caused by: ['/opt/conda/lib/python3.10/site-packages/tensorflow_io/python/ops/libtensorflow_io.so: undefined symbol: _ZTVN10tensorflow13GcsFileSystemE']\n",
      "  warnings.warn(f\"file system plugins are not loaded: {e}\")\n"
     ]
    }
   ],
   "source": [
    "import numpy as np\n",
    "import pandas as pd\n",
    "import matplotlib.pyplot as plt\n",
    "from sklearn.preprocessing import MinMaxScaler\n",
    "from tensorflow.keras.models import Sequential\n",
    "from tensorflow.keras.layers import Dense, LSTM, Dropout"
   ]
  },
  {
   "cell_type": "code",
   "execution_count": 3,
   "id": "cc1a6eec",
   "metadata": {
    "execution": {
     "iopub.execute_input": "2023-06-13T19:49:35.727206Z",
     "iopub.status.busy": "2023-06-13T19:49:35.725949Z",
     "iopub.status.idle": "2023-06-13T19:49:35.790541Z",
     "shell.execute_reply": "2023-06-13T19:49:35.789322Z"
    },
    "papermill": {
     "duration": 0.081723,
     "end_time": "2023-06-13T19:49:35.793229",
     "exception": false,
     "start_time": "2023-06-13T19:49:35.711506",
     "status": "completed"
    },
    "tags": []
   },
   "outputs": [
    {
     "data": {
      "text/html": [
       "<div>\n",
       "<style scoped>\n",
       "    .dataframe tbody tr th:only-of-type {\n",
       "        vertical-align: middle;\n",
       "    }\n",
       "\n",
       "    .dataframe tbody tr th {\n",
       "        vertical-align: top;\n",
       "    }\n",
       "\n",
       "    .dataframe thead th {\n",
       "        text-align: right;\n",
       "    }\n",
       "</style>\n",
       "<table border=\"1\" class=\"dataframe\">\n",
       "  <thead>\n",
       "    <tr style=\"text-align: right;\">\n",
       "      <th></th>\n",
       "      <th>Date</th>\n",
       "      <th>Open</th>\n",
       "      <th>High</th>\n",
       "      <th>Low</th>\n",
       "      <th>Close</th>\n",
       "      <th>Volume</th>\n",
       "    </tr>\n",
       "  </thead>\n",
       "  <tbody>\n",
       "    <tr>\n",
       "      <th>0</th>\n",
       "      <td>1/3/2012</td>\n",
       "      <td>325.25</td>\n",
       "      <td>332.83</td>\n",
       "      <td>324.97</td>\n",
       "      <td>663.59</td>\n",
       "      <td>7,380,500</td>\n",
       "    </tr>\n",
       "    <tr>\n",
       "      <th>1</th>\n",
       "      <td>1/4/2012</td>\n",
       "      <td>331.27</td>\n",
       "      <td>333.87</td>\n",
       "      <td>329.08</td>\n",
       "      <td>666.45</td>\n",
       "      <td>5,749,400</td>\n",
       "    </tr>\n",
       "    <tr>\n",
       "      <th>2</th>\n",
       "      <td>1/5/2012</td>\n",
       "      <td>329.83</td>\n",
       "      <td>330.75</td>\n",
       "      <td>326.89</td>\n",
       "      <td>657.21</td>\n",
       "      <td>6,590,300</td>\n",
       "    </tr>\n",
       "    <tr>\n",
       "      <th>3</th>\n",
       "      <td>1/6/2012</td>\n",
       "      <td>328.34</td>\n",
       "      <td>328.77</td>\n",
       "      <td>323.68</td>\n",
       "      <td>648.24</td>\n",
       "      <td>5,405,900</td>\n",
       "    </tr>\n",
       "    <tr>\n",
       "      <th>4</th>\n",
       "      <td>1/9/2012</td>\n",
       "      <td>322.04</td>\n",
       "      <td>322.29</td>\n",
       "      <td>309.46</td>\n",
       "      <td>620.76</td>\n",
       "      <td>11,688,800</td>\n",
       "    </tr>\n",
       "  </tbody>\n",
       "</table>\n",
       "</div>"
      ],
      "text/plain": [
       "       Date    Open    High     Low   Close      Volume\n",
       "0  1/3/2012  325.25  332.83  324.97  663.59   7,380,500\n",
       "1  1/4/2012  331.27  333.87  329.08  666.45   5,749,400\n",
       "2  1/5/2012  329.83  330.75  326.89  657.21   6,590,300\n",
       "3  1/6/2012  328.34  328.77  323.68  648.24   5,405,900\n",
       "4  1/9/2012  322.04  322.29  309.46  620.76  11,688,800"
      ]
     },
     "execution_count": 3,
     "metadata": {},
     "output_type": "execute_result"
    }
   ],
   "source": [
    "data = pd.read_csv('/kaggle/input/timeseries/Google_train_data.csv')\n",
    "data.head()"
   ]
  },
  {
   "cell_type": "code",
   "execution_count": 4,
   "id": "0cc5c913",
   "metadata": {
    "execution": {
     "iopub.execute_input": "2023-06-13T19:49:35.819357Z",
     "iopub.status.busy": "2023-06-13T19:49:35.818852Z",
     "iopub.status.idle": "2023-06-13T19:49:35.850828Z",
     "shell.execute_reply": "2023-06-13T19:49:35.849564Z"
    },
    "papermill": {
     "duration": 0.048467,
     "end_time": "2023-06-13T19:49:35.853816",
     "exception": false,
     "start_time": "2023-06-13T19:49:35.805349",
     "status": "completed"
    },
    "tags": []
   },
   "outputs": [
    {
     "name": "stdout",
     "output_type": "stream",
     "text": [
      "<class 'pandas.core.frame.DataFrame'>\n",
      "RangeIndex: 1258 entries, 0 to 1257\n",
      "Data columns (total 6 columns):\n",
      " #   Column  Non-Null Count  Dtype  \n",
      "---  ------  --------------  -----  \n",
      " 0   Date    1258 non-null   object \n",
      " 1   Open    1258 non-null   float64\n",
      " 2   High    1258 non-null   float64\n",
      " 3   Low     1258 non-null   float64\n",
      " 4   Close   1258 non-null   object \n",
      " 5   Volume  1258 non-null   object \n",
      "dtypes: float64(3), object(3)\n",
      "memory usage: 59.1+ KB\n"
     ]
    }
   ],
   "source": [
    "data.info()"
   ]
  },
  {
   "cell_type": "code",
   "execution_count": 5,
   "id": "b17f2a97",
   "metadata": {
    "execution": {
     "iopub.execute_input": "2023-06-13T19:49:35.880736Z",
     "iopub.status.busy": "2023-06-13T19:49:35.880183Z",
     "iopub.status.idle": "2023-06-13T19:49:35.891906Z",
     "shell.execute_reply": "2023-06-13T19:49:35.890882Z"
    },
    "papermill": {
     "duration": 0.027761,
     "end_time": "2023-06-13T19:49:35.894111",
     "exception": false,
     "start_time": "2023-06-13T19:49:35.866350",
     "status": "completed"
    },
    "tags": []
   },
   "outputs": [
    {
     "data": {
      "text/plain": [
       "Date      0\n",
       "Open      0\n",
       "High      0\n",
       "Low       0\n",
       "Close     0\n",
       "Volume    0\n",
       "dtype: int64"
      ]
     },
     "execution_count": 5,
     "metadata": {},
     "output_type": "execute_result"
    }
   ],
   "source": [
    "data.isnull().sum()"
   ]
  },
  {
   "cell_type": "code",
   "execution_count": 6,
   "id": "294ccffd",
   "metadata": {
    "execution": {
     "iopub.execute_input": "2023-06-13T19:49:35.921390Z",
     "iopub.status.busy": "2023-06-13T19:49:35.920246Z",
     "iopub.status.idle": "2023-06-13T19:49:35.929974Z",
     "shell.execute_reply": "2023-06-13T19:49:35.929117Z"
    },
    "papermill": {
     "duration": 0.025748,
     "end_time": "2023-06-13T19:49:35.932313",
     "exception": false,
     "start_time": "2023-06-13T19:49:35.906565",
     "status": "completed"
    },
    "tags": []
   },
   "outputs": [
    {
     "data": {
      "text/plain": [
       "0       663.59\n",
       "1       666.45\n",
       "2       657.21\n",
       "3       648.24\n",
       "4       620.76\n",
       "         ...  \n",
       "1253    789.91\n",
       "1254    791.55\n",
       "1255    785.05\n",
       "1256    782.79\n",
       "1257    771.82\n",
       "Name: Close, Length: 1258, dtype: object"
      ]
     },
     "execution_count": 6,
     "metadata": {},
     "output_type": "execute_result"
    }
   ],
   "source": [
    "data['Close']"
   ]
  },
  {
   "cell_type": "code",
   "execution_count": 7,
   "id": "36f3be56",
   "metadata": {
    "execution": {
     "iopub.execute_input": "2023-06-13T19:49:35.960400Z",
     "iopub.status.busy": "2023-06-13T19:49:35.959643Z",
     "iopub.status.idle": "2023-06-13T19:49:35.971148Z",
     "shell.execute_reply": "2023-06-13T19:49:35.969819Z"
    },
    "papermill": {
     "duration": 0.028878,
     "end_time": "2023-06-13T19:49:35.973813",
     "exception": false,
     "start_time": "2023-06-13T19:49:35.944935",
     "status": "completed"
    },
    "tags": []
   },
   "outputs": [
    {
     "data": {
      "text/plain": [
       "0       663.59\n",
       "1       666.45\n",
       "2       657.21\n",
       "3       648.24\n",
       "4       620.76\n",
       "         ...  \n",
       "1253    789.91\n",
       "1254    791.55\n",
       "1255    785.05\n",
       "1256    782.79\n",
       "1257    771.82\n",
       "Name: Close, Length: 1258, dtype: float64"
      ]
     },
     "execution_count": 7,
     "metadata": {},
     "output_type": "execute_result"
    }
   ],
   "source": [
    "data['Close'] = pd.to_numeric(data.Close, errors='coerce')\n",
    "data.Close"
   ]
  },
  {
   "cell_type": "code",
   "execution_count": 8,
   "id": "a0e8af1d",
   "metadata": {
    "execution": {
     "iopub.execute_input": "2023-06-13T19:49:36.002346Z",
     "iopub.status.busy": "2023-06-13T19:49:36.001569Z",
     "iopub.status.idle": "2023-06-13T19:49:36.016310Z",
     "shell.execute_reply": "2023-06-13T19:49:36.014975Z"
    },
    "papermill": {
     "duration": 0.032827,
     "end_time": "2023-06-13T19:49:36.019171",
     "exception": false,
     "start_time": "2023-06-13T19:49:35.986344",
     "status": "completed"
    },
    "tags": []
   },
   "outputs": [
    {
     "name": "stdout",
     "output_type": "stream",
     "text": [
      "<class 'pandas.core.frame.DataFrame'>\n",
      "RangeIndex: 1258 entries, 0 to 1257\n",
      "Data columns (total 6 columns):\n",
      " #   Column  Non-Null Count  Dtype  \n",
      "---  ------  --------------  -----  \n",
      " 0   Date    1258 non-null   object \n",
      " 1   Open    1258 non-null   float64\n",
      " 2   High    1258 non-null   float64\n",
      " 3   Low     1258 non-null   float64\n",
      " 4   Close   1149 non-null   float64\n",
      " 5   Volume  1258 non-null   object \n",
      "dtypes: float64(4), object(2)\n",
      "memory usage: 59.1+ KB\n"
     ]
    }
   ],
   "source": [
    "data.info()"
   ]
  },
  {
   "cell_type": "code",
   "execution_count": 9,
   "id": "58fdbf46",
   "metadata": {
    "execution": {
     "iopub.execute_input": "2023-06-13T19:49:36.046842Z",
     "iopub.status.busy": "2023-06-13T19:49:36.046300Z",
     "iopub.status.idle": "2023-06-13T19:49:36.057654Z",
     "shell.execute_reply": "2023-06-13T19:49:36.056419Z"
    },
    "papermill": {
     "duration": 0.028143,
     "end_time": "2023-06-13T19:49:36.059869",
     "exception": false,
     "start_time": "2023-06-13T19:49:36.031726",
     "status": "completed"
    },
    "tags": []
   },
   "outputs": [
    {
     "data": {
      "text/plain": [
       "Date        0\n",
       "Open        0\n",
       "High        0\n",
       "Low         0\n",
       "Close     109\n",
       "Volume      0\n",
       "dtype: int64"
      ]
     },
     "execution_count": 9,
     "metadata": {},
     "output_type": "execute_result"
    }
   ],
   "source": [
    "data.isnull().sum()"
   ]
  },
  {
   "cell_type": "code",
   "execution_count": 10,
   "id": "b7fdcd01",
   "metadata": {
    "execution": {
     "iopub.execute_input": "2023-06-13T19:49:36.087671Z",
     "iopub.status.busy": "2023-06-13T19:49:36.087124Z",
     "iopub.status.idle": "2023-06-13T19:49:36.095899Z",
     "shell.execute_reply": "2023-06-13T19:49:36.094249Z"
    },
    "papermill": {
     "duration": 0.026243,
     "end_time": "2023-06-13T19:49:36.098844",
     "exception": false,
     "start_time": "2023-06-13T19:49:36.072601",
     "status": "completed"
    },
    "tags": []
   },
   "outputs": [],
   "source": [
    "data = data.dropna()"
   ]
  },
  {
   "cell_type": "code",
   "execution_count": 11,
   "id": "3e0d0f04",
   "metadata": {
    "execution": {
     "iopub.execute_input": "2023-06-13T19:49:36.127387Z",
     "iopub.status.busy": "2023-06-13T19:49:36.126541Z",
     "iopub.status.idle": "2023-06-13T19:49:36.139239Z",
     "shell.execute_reply": "2023-06-13T19:49:36.137916Z"
    },
    "papermill": {
     "duration": 0.030261,
     "end_time": "2023-06-13T19:49:36.142048",
     "exception": false,
     "start_time": "2023-06-13T19:49:36.111787",
     "status": "completed"
    },
    "tags": []
   },
   "outputs": [
    {
     "data": {
      "text/plain": [
       "Date      0\n",
       "Open      0\n",
       "High      0\n",
       "Low       0\n",
       "Close     0\n",
       "Volume    0\n",
       "dtype: int64"
      ]
     },
     "execution_count": 11,
     "metadata": {},
     "output_type": "execute_result"
    }
   ],
   "source": [
    "data.isnull().sum()"
   ]
  },
  {
   "cell_type": "code",
   "execution_count": 12,
   "id": "f3019311",
   "metadata": {
    "execution": {
     "iopub.execute_input": "2023-06-13T19:49:36.170565Z",
     "iopub.status.busy": "2023-06-13T19:49:36.170049Z",
     "iopub.status.idle": "2023-06-13T19:49:36.185597Z",
     "shell.execute_reply": "2023-06-13T19:49:36.184111Z"
    },
    "papermill": {
     "duration": 0.033872,
     "end_time": "2023-06-13T19:49:36.188955",
     "exception": false,
     "start_time": "2023-06-13T19:49:36.155083",
     "status": "completed"
    },
    "tags": []
   },
   "outputs": [
    {
     "name": "stdout",
     "output_type": "stream",
     "text": [
      "<class 'pandas.core.frame.DataFrame'>\n",
      "Int64Index: 1149 entries, 0 to 1257\n",
      "Data columns (total 6 columns):\n",
      " #   Column  Non-Null Count  Dtype  \n",
      "---  ------  --------------  -----  \n",
      " 0   Date    1149 non-null   object \n",
      " 1   Open    1149 non-null   float64\n",
      " 2   High    1149 non-null   float64\n",
      " 3   Low     1149 non-null   float64\n",
      " 4   Close   1149 non-null   float64\n",
      " 5   Volume  1149 non-null   object \n",
      "dtypes: float64(4), object(2)\n",
      "memory usage: 62.8+ KB\n"
     ]
    }
   ],
   "source": [
    "data.info()"
   ]
  },
  {
   "cell_type": "code",
   "execution_count": 13,
   "id": "3029c0e9",
   "metadata": {
    "execution": {
     "iopub.execute_input": "2023-06-13T19:49:36.218411Z",
     "iopub.status.busy": "2023-06-13T19:49:36.217268Z",
     "iopub.status.idle": "2023-06-13T19:49:36.239841Z",
     "shell.execute_reply": "2023-06-13T19:49:36.238405Z"
    },
    "papermill": {
     "duration": 0.040609,
     "end_time": "2023-06-13T19:49:36.242774",
     "exception": false,
     "start_time": "2023-06-13T19:49:36.202165",
     "status": "completed"
    },
    "tags": []
   },
   "outputs": [
    {
     "data": {
      "text/html": [
       "<div>\n",
       "<style scoped>\n",
       "    .dataframe tbody tr th:only-of-type {\n",
       "        vertical-align: middle;\n",
       "    }\n",
       "\n",
       "    .dataframe tbody tr th {\n",
       "        vertical-align: top;\n",
       "    }\n",
       "\n",
       "    .dataframe thead th {\n",
       "        text-align: right;\n",
       "    }\n",
       "</style>\n",
       "<table border=\"1\" class=\"dataframe\">\n",
       "  <thead>\n",
       "    <tr style=\"text-align: right;\">\n",
       "      <th></th>\n",
       "      <th>Date</th>\n",
       "      <th>Open</th>\n",
       "      <th>High</th>\n",
       "      <th>Low</th>\n",
       "      <th>Close</th>\n",
       "      <th>Volume</th>\n",
       "    </tr>\n",
       "  </thead>\n",
       "  <tbody>\n",
       "    <tr>\n",
       "      <th>0</th>\n",
       "      <td>1/3/2012</td>\n",
       "      <td>325.25</td>\n",
       "      <td>332.83</td>\n",
       "      <td>324.97</td>\n",
       "      <td>663.59</td>\n",
       "      <td>7,380,500</td>\n",
       "    </tr>\n",
       "    <tr>\n",
       "      <th>1</th>\n",
       "      <td>1/4/2012</td>\n",
       "      <td>331.27</td>\n",
       "      <td>333.87</td>\n",
       "      <td>329.08</td>\n",
       "      <td>666.45</td>\n",
       "      <td>5,749,400</td>\n",
       "    </tr>\n",
       "    <tr>\n",
       "      <th>2</th>\n",
       "      <td>1/5/2012</td>\n",
       "      <td>329.83</td>\n",
       "      <td>330.75</td>\n",
       "      <td>326.89</td>\n",
       "      <td>657.21</td>\n",
       "      <td>6,590,300</td>\n",
       "    </tr>\n",
       "    <tr>\n",
       "      <th>3</th>\n",
       "      <td>1/6/2012</td>\n",
       "      <td>328.34</td>\n",
       "      <td>328.77</td>\n",
       "      <td>323.68</td>\n",
       "      <td>648.24</td>\n",
       "      <td>5,405,900</td>\n",
       "    </tr>\n",
       "    <tr>\n",
       "      <th>4</th>\n",
       "      <td>1/9/2012</td>\n",
       "      <td>322.04</td>\n",
       "      <td>322.29</td>\n",
       "      <td>309.46</td>\n",
       "      <td>620.76</td>\n",
       "      <td>11,688,800</td>\n",
       "    </tr>\n",
       "    <tr>\n",
       "      <th>...</th>\n",
       "      <td>...</td>\n",
       "      <td>...</td>\n",
       "      <td>...</td>\n",
       "      <td>...</td>\n",
       "      <td>...</td>\n",
       "      <td>...</td>\n",
       "    </tr>\n",
       "    <tr>\n",
       "      <th>1253</th>\n",
       "      <td>12/23/2016</td>\n",
       "      <td>790.90</td>\n",
       "      <td>792.74</td>\n",
       "      <td>787.28</td>\n",
       "      <td>789.91</td>\n",
       "      <td>623,400</td>\n",
       "    </tr>\n",
       "    <tr>\n",
       "      <th>1254</th>\n",
       "      <td>12/27/2016</td>\n",
       "      <td>790.68</td>\n",
       "      <td>797.86</td>\n",
       "      <td>787.66</td>\n",
       "      <td>791.55</td>\n",
       "      <td>789,100</td>\n",
       "    </tr>\n",
       "    <tr>\n",
       "      <th>1255</th>\n",
       "      <td>12/28/2016</td>\n",
       "      <td>793.70</td>\n",
       "      <td>794.23</td>\n",
       "      <td>783.20</td>\n",
       "      <td>785.05</td>\n",
       "      <td>1,153,800</td>\n",
       "    </tr>\n",
       "    <tr>\n",
       "      <th>1256</th>\n",
       "      <td>12/29/2016</td>\n",
       "      <td>783.33</td>\n",
       "      <td>785.93</td>\n",
       "      <td>778.92</td>\n",
       "      <td>782.79</td>\n",
       "      <td>744,300</td>\n",
       "    </tr>\n",
       "    <tr>\n",
       "      <th>1257</th>\n",
       "      <td>12/30/2016</td>\n",
       "      <td>782.75</td>\n",
       "      <td>782.78</td>\n",
       "      <td>770.41</td>\n",
       "      <td>771.82</td>\n",
       "      <td>1,770,000</td>\n",
       "    </tr>\n",
       "  </tbody>\n",
       "</table>\n",
       "<p>1149 rows × 6 columns</p>\n",
       "</div>"
      ],
      "text/plain": [
       "            Date    Open    High     Low   Close      Volume\n",
       "0       1/3/2012  325.25  332.83  324.97  663.59   7,380,500\n",
       "1       1/4/2012  331.27  333.87  329.08  666.45   5,749,400\n",
       "2       1/5/2012  329.83  330.75  326.89  657.21   6,590,300\n",
       "3       1/6/2012  328.34  328.77  323.68  648.24   5,405,900\n",
       "4       1/9/2012  322.04  322.29  309.46  620.76  11,688,800\n",
       "...          ...     ...     ...     ...     ...         ...\n",
       "1253  12/23/2016  790.90  792.74  787.28  789.91     623,400\n",
       "1254  12/27/2016  790.68  797.86  787.66  791.55     789,100\n",
       "1255  12/28/2016  793.70  794.23  783.20  785.05   1,153,800\n",
       "1256  12/29/2016  783.33  785.93  778.92  782.79     744,300\n",
       "1257  12/30/2016  782.75  782.78  770.41  771.82   1,770,000\n",
       "\n",
       "[1149 rows x 6 columns]"
      ]
     },
     "execution_count": 13,
     "metadata": {},
     "output_type": "execute_result"
    }
   ],
   "source": [
    "data"
   ]
  },
  {
   "cell_type": "code",
   "execution_count": 14,
   "id": "60e6a89c",
   "metadata": {
    "execution": {
     "iopub.execute_input": "2023-06-13T19:49:36.273318Z",
     "iopub.status.busy": "2023-06-13T19:49:36.272829Z",
     "iopub.status.idle": "2023-06-13T19:49:36.278762Z",
     "shell.execute_reply": "2023-06-13T19:49:36.277769Z"
    },
    "papermill": {
     "duration": 0.024024,
     "end_time": "2023-06-13T19:49:36.281133",
     "exception": false,
     "start_time": "2023-06-13T19:49:36.257109",
     "status": "completed"
    },
    "tags": []
   },
   "outputs": [],
   "source": [
    "trainData = data.iloc[:,4:5].values"
   ]
  },
  {
   "cell_type": "code",
   "execution_count": 15,
   "id": "23d0c800",
   "metadata": {
    "execution": {
     "iopub.execute_input": "2023-06-13T19:49:36.311585Z",
     "iopub.status.busy": "2023-06-13T19:49:36.310529Z",
     "iopub.status.idle": "2023-06-13T19:49:36.320284Z",
     "shell.execute_reply": "2023-06-13T19:49:36.319044Z"
    },
    "papermill": {
     "duration": 0.027788,
     "end_time": "2023-06-13T19:49:36.323055",
     "exception": false,
     "start_time": "2023-06-13T19:49:36.295267",
     "status": "completed"
    },
    "tags": []
   },
   "outputs": [
    {
     "data": {
      "text/plain": [
       "array([[663.59],\n",
       "       [666.45],\n",
       "       [657.21],\n",
       "       ...,\n",
       "       [785.05],\n",
       "       [782.79],\n",
       "       [771.82]])"
      ]
     },
     "execution_count": 15,
     "metadata": {},
     "output_type": "execute_result"
    }
   ],
   "source": [
    "trainData"
   ]
  },
  {
   "cell_type": "markdown",
   "id": "1b12708b",
   "metadata": {
    "papermill": {
     "duration": 0.013611,
     "end_time": "2023-06-13T19:49:36.352868",
     "exception": false,
     "start_time": "2023-06-13T19:49:36.339257",
     "status": "completed"
    },
    "tags": []
   },
   "source": [
    "# MinMaxScaler\n",
    "X_std = (X - X.min(axis=0)) / (X.max(axis=0) - X.min(axis=0))\n",
    "X_scaled = X_std * (max - min) + min"
   ]
  },
  {
   "cell_type": "code",
   "execution_count": 16,
   "id": "a88ad0f1",
   "metadata": {
    "execution": {
     "iopub.execute_input": "2023-06-13T19:49:36.384464Z",
     "iopub.status.busy": "2023-06-13T19:49:36.383259Z",
     "iopub.status.idle": "2023-06-13T19:49:36.393949Z",
     "shell.execute_reply": "2023-06-13T19:49:36.392843Z"
    },
    "papermill": {
     "duration": 0.028608,
     "end_time": "2023-06-13T19:49:36.396314",
     "exception": false,
     "start_time": "2023-06-13T19:49:36.367706",
     "status": "completed"
    },
    "tags": []
   },
   "outputs": [
    {
     "data": {
      "text/plain": [
       "array([[0.40001392],\n",
       "       [0.40665027],\n",
       "       [0.38520976],\n",
       "       ...,\n",
       "       [0.68184982],\n",
       "       [0.67660572],\n",
       "       [0.65115092]])"
      ]
     },
     "execution_count": 16,
     "metadata": {},
     "output_type": "execute_result"
    }
   ],
   "source": [
    "sc = MinMaxScaler(feature_range=(0,1))\n",
    "trainData = sc.fit_transform(trainData)\n",
    "trainData"
   ]
  },
  {
   "cell_type": "code",
   "execution_count": 17,
   "id": "914b5021",
   "metadata": {
    "execution": {
     "iopub.execute_input": "2023-06-13T19:49:36.426208Z",
     "iopub.status.busy": "2023-06-13T19:49:36.425348Z",
     "iopub.status.idle": "2023-06-13T19:49:36.434109Z",
     "shell.execute_reply": "2023-06-13T19:49:36.432883Z"
    },
    "papermill": {
     "duration": 0.02658,
     "end_time": "2023-06-13T19:49:36.436572",
     "exception": false,
     "start_time": "2023-06-13T19:49:36.409992",
     "status": "completed"
    },
    "tags": []
   },
   "outputs": [
    {
     "data": {
      "text/plain": [
       "(1149, 1)"
      ]
     },
     "execution_count": 17,
     "metadata": {},
     "output_type": "execute_result"
    }
   ],
   "source": [
    "trainData.shape"
   ]
  },
  {
   "cell_type": "code",
   "execution_count": 18,
   "id": "0cd798c2",
   "metadata": {
    "execution": {
     "iopub.execute_input": "2023-06-13T19:49:36.465692Z",
     "iopub.status.busy": "2023-06-13T19:49:36.465267Z",
     "iopub.status.idle": "2023-06-13T19:49:36.472806Z",
     "shell.execute_reply": "2023-06-13T19:49:36.471659Z"
    },
    "papermill": {
     "duration": 0.025325,
     "end_time": "2023-06-13T19:49:36.475470",
     "exception": false,
     "start_time": "2023-06-13T19:49:36.450145",
     "status": "completed"
    },
    "tags": []
   },
   "outputs": [],
   "source": [
    "X_train = []\n",
    "y_train = []\n",
    "for i in range(60,1149):\n",
    "    X_train.append(trainData[i-60:i,0])\n",
    "    y_train.append(trainData[i,0])"
   ]
  },
  {
   "cell_type": "code",
   "execution_count": 19,
   "id": "ddb27124",
   "metadata": {
    "execution": {
     "iopub.execute_input": "2023-06-13T19:49:36.504102Z",
     "iopub.status.busy": "2023-06-13T19:49:36.503735Z",
     "iopub.status.idle": "2023-06-13T19:49:36.511645Z",
     "shell.execute_reply": "2023-06-13T19:49:36.510563Z"
    },
    "papermill": {
     "duration": 0.025096,
     "end_time": "2023-06-13T19:49:36.513889",
     "exception": false,
     "start_time": "2023-06-13T19:49:36.488793",
     "status": "completed"
    },
    "tags": []
   },
   "outputs": [
    {
     "data": {
      "text/plain": [
       "array([0.40001392, 0.40665027, 0.38520976, 0.36439577, 0.30063115,\n",
       "       0.30218582, 0.30872935, 0.31724522, 0.30647856, 0.31478559,\n",
       "       0.32480973, 0.34021719, 0.21623817, 0.21514758, 0.20452014,\n",
       "       0.17804437, 0.17481901, 0.20231576, 0.19702525, 0.20261741,\n",
       "       0.2042881 , 0.21419621, 0.2401615 , 0.269677  , 0.26431687,\n",
       "       0.2714405 , 0.27517635, 0.26232133, 0.27687024, 0.27123167,\n",
       "       0.26150919, 0.26373677, 0.25937442, 0.28104696, 0.26703174,\n",
       "       0.26278541, 0.27155652, 0.27018749, 0.29121032, 0.29088547,\n",
       "       0.30049193, 0.29782346, 0.28162707, 0.26011695, 0.26438649,\n",
       "       0.26517542, 0.24923427, 0.26055782, 0.28979488, 0.28564136,\n",
       "       0.29754502, 0.30659458, 0.32726935, 0.32615556, 0.34116855,\n",
       "       0.35520698, 0.3472016 , 0.36279469, 0.35745777, 0.37766846])"
      ]
     },
     "execution_count": 19,
     "metadata": {},
     "output_type": "execute_result"
    }
   ],
   "source": [
    "X_train[0]"
   ]
  },
  {
   "cell_type": "code",
   "execution_count": 20,
   "id": "beedd8d9",
   "metadata": {
    "execution": {
     "iopub.execute_input": "2023-06-13T19:49:36.542617Z",
     "iopub.status.busy": "2023-06-13T19:49:36.542170Z",
     "iopub.status.idle": "2023-06-13T19:49:36.550232Z",
     "shell.execute_reply": "2023-06-13T19:49:36.548823Z"
    },
    "papermill": {
     "duration": 0.025558,
     "end_time": "2023-06-13T19:49:36.552792",
     "exception": false,
     "start_time": "2023-06-13T19:49:36.527234",
     "status": "completed"
    },
    "tags": []
   },
   "outputs": [
    {
     "data": {
      "text/plain": [
       "0.36065992203452746"
      ]
     },
     "execution_count": 20,
     "metadata": {},
     "output_type": "execute_result"
    }
   ],
   "source": [
    "y_train[0]"
   ]
  },
  {
   "cell_type": "code",
   "execution_count": 21,
   "id": "5597a682",
   "metadata": {
    "execution": {
     "iopub.execute_input": "2023-06-13T19:49:36.583250Z",
     "iopub.status.busy": "2023-06-13T19:49:36.582859Z",
     "iopub.status.idle": "2023-06-13T19:49:36.589697Z",
     "shell.execute_reply": "2023-06-13T19:49:36.588574Z"
    },
    "papermill": {
     "duration": 0.025702,
     "end_time": "2023-06-13T19:49:36.592204",
     "exception": false,
     "start_time": "2023-06-13T19:49:36.566502",
     "status": "completed"
    },
    "tags": []
   },
   "outputs": [],
   "source": [
    "X_train, y_train = np.array(X_train), np.array(y_train)"
   ]
  },
  {
   "cell_type": "code",
   "execution_count": 22,
   "id": "0090e713",
   "metadata": {
    "execution": {
     "iopub.execute_input": "2023-06-13T19:49:36.621330Z",
     "iopub.status.busy": "2023-06-13T19:49:36.620954Z",
     "iopub.status.idle": "2023-06-13T19:49:36.628401Z",
     "shell.execute_reply": "2023-06-13T19:49:36.627203Z"
    },
    "papermill": {
     "duration": 0.025094,
     "end_time": "2023-06-13T19:49:36.630887",
     "exception": false,
     "start_time": "2023-06-13T19:49:36.605793",
     "status": "completed"
    },
    "tags": []
   },
   "outputs": [
    {
     "data": {
      "text/plain": [
       "array([0.40001392, 0.40665027, 0.38520976, 0.36439577, 0.30063115,\n",
       "       0.30218582, 0.30872935, 0.31724522, 0.30647856, 0.31478559,\n",
       "       0.32480973, 0.34021719, 0.21623817, 0.21514758, 0.20452014,\n",
       "       0.17804437, 0.17481901, 0.20231576, 0.19702525, 0.20261741,\n",
       "       0.2042881 , 0.21419621, 0.2401615 , 0.269677  , 0.26431687,\n",
       "       0.2714405 , 0.27517635, 0.26232133, 0.27687024, 0.27123167,\n",
       "       0.26150919, 0.26373677, 0.25937442, 0.28104696, 0.26703174,\n",
       "       0.26278541, 0.27155652, 0.27018749, 0.29121032, 0.29088547,\n",
       "       0.30049193, 0.29782346, 0.28162707, 0.26011695, 0.26438649,\n",
       "       0.26517542, 0.24923427, 0.26055782, 0.28979488, 0.28564136,\n",
       "       0.29754502, 0.30659458, 0.32726935, 0.32615556, 0.34116855,\n",
       "       0.35520698, 0.3472016 , 0.36279469, 0.35745777, 0.37766846])"
      ]
     },
     "execution_count": 22,
     "metadata": {},
     "output_type": "execute_result"
    }
   ],
   "source": [
    "X_train[0]"
   ]
  },
  {
   "cell_type": "code",
   "execution_count": 23,
   "id": "eaed9101",
   "metadata": {
    "execution": {
     "iopub.execute_input": "2023-06-13T19:49:36.660111Z",
     "iopub.status.busy": "2023-06-13T19:49:36.659710Z",
     "iopub.status.idle": "2023-06-13T19:49:36.667135Z",
     "shell.execute_reply": "2023-06-13T19:49:36.665970Z"
    },
    "papermill": {
     "duration": 0.024858,
     "end_time": "2023-06-13T19:49:36.669553",
     "exception": false,
     "start_time": "2023-06-13T19:49:36.644695",
     "status": "completed"
    },
    "tags": []
   },
   "outputs": [
    {
     "data": {
      "text/plain": [
       "0.36065992203452746"
      ]
     },
     "execution_count": 23,
     "metadata": {},
     "output_type": "execute_result"
    }
   ],
   "source": [
    "y_train[0]"
   ]
  },
  {
   "cell_type": "code",
   "execution_count": 24,
   "id": "a73b43f4",
   "metadata": {
    "execution": {
     "iopub.execute_input": "2023-06-13T19:49:36.699769Z",
     "iopub.status.busy": "2023-06-13T19:49:36.699098Z",
     "iopub.status.idle": "2023-06-13T19:49:36.706730Z",
     "shell.execute_reply": "2023-06-13T19:49:36.705456Z"
    },
    "papermill": {
     "duration": 0.025817,
     "end_time": "2023-06-13T19:49:36.709276",
     "exception": false,
     "start_time": "2023-06-13T19:49:36.683459",
     "status": "completed"
    },
    "tags": []
   },
   "outputs": [
    {
     "data": {
      "text/plain": [
       "(1089, 60)"
      ]
     },
     "execution_count": 24,
     "metadata": {},
     "output_type": "execute_result"
    }
   ],
   "source": [
    "X_train.shape"
   ]
  },
  {
   "cell_type": "code",
   "execution_count": 25,
   "id": "740bf2ab",
   "metadata": {
    "execution": {
     "iopub.execute_input": "2023-06-13T19:49:36.740001Z",
     "iopub.status.busy": "2023-06-13T19:49:36.739540Z",
     "iopub.status.idle": "2023-06-13T19:49:36.747674Z",
     "shell.execute_reply": "2023-06-13T19:49:36.746374Z"
    },
    "papermill": {
     "duration": 0.026186,
     "end_time": "2023-06-13T19:49:36.749985",
     "exception": false,
     "start_time": "2023-06-13T19:49:36.723799",
     "status": "completed"
    },
    "tags": []
   },
   "outputs": [
    {
     "data": {
      "text/plain": [
       "(1089, 60, 1)"
      ]
     },
     "execution_count": 25,
     "metadata": {},
     "output_type": "execute_result"
    }
   ],
   "source": [
    "X_train = np.reshape(X_train, (X_train.shape[0], X_train.shape[1], 1))\n",
    "X_train.shape"
   ]
  },
  {
   "cell_type": "code",
   "execution_count": 26,
   "id": "8e68c8b9",
   "metadata": {
    "execution": {
     "iopub.execute_input": "2023-06-13T19:49:36.780581Z",
     "iopub.status.busy": "2023-06-13T19:49:36.780142Z",
     "iopub.status.idle": "2023-06-13T19:49:38.236643Z",
     "shell.execute_reply": "2023-06-13T19:49:38.235557Z"
    },
    "papermill": {
     "duration": 1.47481,
     "end_time": "2023-06-13T19:49:38.239500",
     "exception": false,
     "start_time": "2023-06-13T19:49:36.764690",
     "status": "completed"
    },
    "tags": []
   },
   "outputs": [],
   "source": [
    "model = Sequential()\n",
    "model.add(LSTM(units=100, return_sequences=True, input_shape=(X_train.shape[1],1)))\n",
    "model.add(Dropout(0.2))\n",
    "\n",
    "model.add(LSTM(units=100, return_sequences=True))\n",
    "model.add(Dropout(0.2))\n",
    "          \n",
    "model.add(LSTM(units=100, return_sequences=True))\n",
    "model.add(Dropout(0.2))\n",
    "          \n",
    "model.add(LSTM(units=100, return_sequences=False))\n",
    "model.add(Dropout(0.2))\n",
    "          \n",
    "model.add(Dense(units=1))\n",
    "model.compile(optimizer='adam', loss='mean_squared_error')"
   ]
  },
  {
   "cell_type": "code",
   "execution_count": 27,
   "id": "c3d9d417",
   "metadata": {
    "execution": {
     "iopub.execute_input": "2023-06-13T19:49:38.269950Z",
     "iopub.status.busy": "2023-06-13T19:49:38.269561Z",
     "iopub.status.idle": "2023-06-13T19:52:04.943116Z",
     "shell.execute_reply": "2023-06-13T19:52:04.941915Z"
    },
    "papermill": {
     "duration": 146.691967,
     "end_time": "2023-06-13T19:52:04.945884",
     "exception": false,
     "start_time": "2023-06-13T19:49:38.253917",
     "status": "completed"
    },
    "tags": []
   },
   "outputs": [
    {
     "name": "stdout",
     "output_type": "stream",
     "text": [
      "Epoch 1/20\n",
      "35/35 - 16s - loss: 0.0280 - 16s/epoch - 449ms/step\n",
      "Epoch 2/20\n",
      "35/35 - 7s - loss: 0.0102 - 7s/epoch - 197ms/step\n",
      "Epoch 3/20\n",
      "35/35 - 7s - loss: 0.0093 - 7s/epoch - 195ms/step\n",
      "Epoch 4/20\n",
      "35/35 - 7s - loss: 0.0095 - 7s/epoch - 195ms/step\n",
      "Epoch 5/20\n",
      "35/35 - 7s - loss: 0.0083 - 7s/epoch - 202ms/step\n",
      "Epoch 6/20\n",
      "35/35 - 7s - loss: 0.0078 - 7s/epoch - 198ms/step\n",
      "Epoch 7/20\n",
      "35/35 - 7s - loss: 0.0081 - 7s/epoch - 195ms/step\n",
      "Epoch 8/20\n",
      "35/35 - 7s - loss: 0.0057 - 7s/epoch - 194ms/step\n",
      "Epoch 9/20\n",
      "35/35 - 7s - loss: 0.0060 - 7s/epoch - 193ms/step\n",
      "Epoch 10/20\n",
      "35/35 - 7s - loss: 0.0057 - 7s/epoch - 205ms/step\n",
      "Epoch 11/20\n",
      "35/35 - 7s - loss: 0.0068 - 7s/epoch - 195ms/step\n",
      "Epoch 12/20\n",
      "35/35 - 7s - loss: 0.0053 - 7s/epoch - 196ms/step\n",
      "Epoch 13/20\n",
      "35/35 - 7s - loss: 0.0064 - 7s/epoch - 195ms/step\n",
      "Epoch 14/20\n",
      "35/35 - 7s - loss: 0.0050 - 7s/epoch - 194ms/step\n",
      "Epoch 15/20\n",
      "35/35 - 7s - loss: 0.0052 - 7s/epoch - 202ms/step\n",
      "Epoch 16/20\n",
      "35/35 - 7s - loss: 0.0049 - 7s/epoch - 193ms/step\n",
      "Epoch 17/20\n",
      "35/35 - 7s - loss: 0.0042 - 7s/epoch - 195ms/step\n",
      "Epoch 18/20\n",
      "35/35 - 7s - loss: 0.0045 - 7s/epoch - 195ms/step\n",
      "Epoch 19/20\n",
      "35/35 - 7s - loss: 0.0047 - 7s/epoch - 201ms/step\n",
      "Epoch 20/20\n",
      "35/35 - 7s - loss: 0.0042 - 7s/epoch - 195ms/step\n"
     ]
    }
   ],
   "source": [
    "hist = model.fit(X_train, y_train, epochs=20, batch_size=32, verbose=2)"
   ]
  },
  {
   "cell_type": "code",
   "execution_count": 28,
   "id": "899cdd35",
   "metadata": {
    "execution": {
     "iopub.execute_input": "2023-06-13T19:52:04.983374Z",
     "iopub.status.busy": "2023-06-13T19:52:04.982899Z",
     "iopub.status.idle": "2023-06-13T19:52:04.990566Z",
     "shell.execute_reply": "2023-06-13T19:52:04.989409Z"
    },
    "papermill": {
     "duration": 0.029076,
     "end_time": "2023-06-13T19:52:04.992890",
     "exception": false,
     "start_time": "2023-06-13T19:52:04.963814",
     "status": "completed"
    },
    "tags": []
   },
   "outputs": [
    {
     "data": {
      "text/plain": [
       "[0.02801283448934555,\n",
       " 0.010198261588811874,\n",
       " 0.00927661545574665,\n",
       " 0.009535917080938816,\n",
       " 0.008322376757860184,\n",
       " 0.00775145273655653,\n",
       " 0.008102926425635815,\n",
       " 0.005722937639802694,\n",
       " 0.0059504141099750996,\n",
       " 0.005738020874559879,\n",
       " 0.006760858930647373,\n",
       " 0.0053170365281403065,\n",
       " 0.006373237818479538,\n",
       " 0.0049863699823617935,\n",
       " 0.005221486557275057,\n",
       " 0.004910909105092287,\n",
       " 0.004224459175020456,\n",
       " 0.004549031611531973,\n",
       " 0.004714389331638813,\n",
       " 0.004168166313320398]"
      ]
     },
     "execution_count": 28,
     "metadata": {},
     "output_type": "execute_result"
    }
   ],
   "source": [
    "hist.history['loss']"
   ]
  },
  {
   "cell_type": "code",
   "execution_count": 29,
   "id": "7002e155",
   "metadata": {
    "execution": {
     "iopub.execute_input": "2023-06-13T19:52:05.031092Z",
     "iopub.status.busy": "2023-06-13T19:52:05.030213Z",
     "iopub.status.idle": "2023-06-13T19:52:05.366670Z",
     "shell.execute_reply": "2023-06-13T19:52:05.365634Z"
    },
    "papermill": {
     "duration": 0.359375,
     "end_time": "2023-06-13T19:52:05.370113",
     "exception": false,
     "start_time": "2023-06-13T19:52:05.010738",
     "status": "completed"
    },
    "tags": []
   },
   "outputs": [
    {
     "data": {
      "image/png": "[encoded data removed]",
      "text/plain": [
       "<Figure size 640x480 with 1 Axes>"
      ]
     },
     "metadata": {},
     "output_type": "display_data"
    }
   ],
   "source": [
    "plt.plot(hist.history['loss'])\n",
    "plt.title('Training Model Loss')\n",
    "plt.xlabel('Epochs')\n",
    "plt.ylabel('Loss')\n",
    "plt.legend(['train'], loc='upper left')\n",
    "plt.show()"
   ]
  },
  {
   "cell_type": "code",
   "execution_count": 30,
   "id": "42bce9cb",
   "metadata": {
    "execution": {
     "iopub.execute_input": "2023-06-13T19:52:05.410090Z",
     "iopub.status.busy": "2023-06-13T19:52:05.409549Z",
     "iopub.status.idle": "2023-06-13T19:52:05.437946Z",
     "shell.execute_reply": "2023-06-13T19:52:05.437072Z"
    },
    "papermill": {
     "duration": 0.051096,
     "end_time": "2023-06-13T19:52:05.440607",
     "exception": false,
     "start_time": "2023-06-13T19:52:05.389511",
     "status": "completed"
    },
    "tags": []
   },
   "outputs": [
    {
     "data": {
      "text/plain": [
       "(192, 60, 1)"
      ]
     },
     "execution_count": 30,
     "metadata": {},
     "output_type": "execute_result"
    }
   ],
   "source": [
    "testData = pd.read_csv('/kaggle/input/timeseries/Google_test_data.csv')\n",
    "testData[\"Close\"]=pd.to_numeric(testData.Close,errors='coerce')\n",
    "testData = testData.dropna()\n",
    "testData = testData.iloc[:,4:5]\n",
    "y_test = testData.iloc[60:,0:].values \n",
    "#input array for the model\n",
    "inputClosing = testData.iloc[:,0:].values \n",
    "inputClosing_scaled = sc.transform(inputClosing)\n",
    "inputClosing_scaled.shape\n",
    "X_test = []\n",
    "length = len(testData)\n",
    "timestep = 60\n",
    "for i in range(timestep,length):  \n",
    "    X_test.append(inputClosing_scaled[i-timestep:i,0])\n",
    "X_test = np.array(X_test)\n",
    "X_test = np.reshape(X_test,(X_test.shape[0],X_test.shape[1],1))\n",
    "X_test.shape"
   ]
  },
  {
   "cell_type": "code",
   "execution_count": 31,
   "id": "44ea4ea9",
   "metadata": {
    "execution": {
     "iopub.execute_input": "2023-06-13T19:52:05.480310Z",
     "iopub.status.busy": "2023-06-13T19:52:05.479924Z",
     "iopub.status.idle": "2023-06-13T19:52:07.882795Z",
     "shell.execute_reply": "2023-06-13T19:52:07.881557Z"
    },
    "papermill": {
     "duration": 2.426078,
     "end_time": "2023-06-13T19:52:07.885651",
     "exception": false,
     "start_time": "2023-06-13T19:52:05.459573",
     "status": "completed"
    },
    "tags": []
   },
   "outputs": [
    {
     "name": "stdout",
     "output_type": "stream",
     "text": [
      "6/6 [==============================] - 2s 50ms/step\n"
     ]
    },
    {
     "data": {
      "text/plain": [
       "array([[1.1342465],\n",
       "       [1.1361727],\n",
       "       [1.1482445],\n",
       "       [1.1657585],\n",
       "       [1.1771314],\n",
       "       [1.170837 ],\n",
       "       [1.1505206],\n",
       "       [1.1281917],\n",
       "       [1.1177459],\n",
       "       [1.1192521],\n",
       "       [1.1153417],\n",
       "       [1.1051391],\n",
       "       [1.0963713],\n",
       "       [1.0884151],\n",
       "       [1.089174 ],\n",
       "       [1.0966902],\n",
       "       [1.1189663],\n",
       "       [1.1505541],\n",
       "       [1.1831235],\n",
       "       [1.2122813],\n",
       "       [1.2160388],\n",
       "       [1.202383 ],\n",
       "       [1.1725446],\n",
       "       [1.1383251],\n",
       "       [1.1135249],\n",
       "       [1.1058078],\n",
       "       [1.1116472],\n",
       "       [1.11819  ],\n",
       "       [1.1129491],\n",
       "       [1.1015906],\n",
       "       [1.088711 ],\n",
       "       [1.0742824],\n",
       "       [1.0523261],\n",
       "       [1.026146 ],\n",
       "       [1.0201696],\n",
       "       [1.0373914],\n",
       "       [1.0658131],\n",
       "       [1.0928693],\n",
       "       [1.1143829],\n",
       "       [1.1195837],\n",
       "       [1.1263053],\n",
       "       [1.1379585],\n",
       "       [1.1536721],\n",
       "       [1.1682845],\n",
       "       [1.1767452],\n",
       "       [1.1743466],\n",
       "       [1.1602246],\n",
       "       [1.1505967],\n",
       "       [1.1511061],\n",
       "       [1.1618891],\n",
       "       [1.1798177],\n",
       "       [1.1898277],\n",
       "       [1.1904986],\n",
       "       [1.1846578],\n",
       "       [1.1818703],\n",
       "       [1.177521 ],\n",
       "       [1.1683289],\n",
       "       [1.1654907],\n",
       "       [1.1788939],\n",
       "       [1.2013153],\n",
       "       [1.2302725],\n",
       "       [1.2620856],\n",
       "       [1.279279 ],\n",
       "       [1.2740898],\n",
       "       [1.2528952],\n",
       "       [1.2271254],\n",
       "       [1.2141273],\n",
       "       [1.215117 ],\n",
       "       [1.225071 ],\n",
       "       [1.2349156],\n",
       "       [1.2423661],\n",
       "       [1.245244 ],\n",
       "       [1.2388948],\n",
       "       [1.231109 ],\n",
       "       [1.2256131],\n",
       "       [1.2251766],\n",
       "       [1.2288872],\n",
       "       [1.235495 ],\n",
       "       [1.2493037],\n",
       "       [1.2686563],\n",
       "       [1.2921867],\n",
       "       [1.3123018],\n",
       "       [1.3196614],\n",
       "       [1.3150547],\n",
       "       [1.3154594],\n",
       "       [1.3287809],\n",
       "       [1.3489985],\n",
       "       [1.3649476],\n",
       "       [1.3719813],\n",
       "       [1.3711098],\n",
       "       [1.3709365],\n",
       "       [1.3818862],\n",
       "       [1.402183 ],\n",
       "       [1.4139225],\n",
       "       [1.4092841],\n",
       "       [1.3911014],\n",
       "       [1.3649291],\n",
       "       [1.3386198],\n",
       "       [1.3207136],\n",
       "       [1.3207093],\n",
       "       [1.3360261],\n",
       "       [1.3591357],\n",
       "       [1.3842003],\n",
       "       [1.4017359],\n",
       "       [1.4080693],\n",
       "       [1.4032938],\n",
       "       [1.394493 ],\n",
       "       [1.3872485],\n",
       "       [1.3880535],\n",
       "       [1.395877 ],\n",
       "       [1.4080855],\n",
       "       [1.4231625],\n",
       "       [1.436584 ],\n",
       "       [1.449809 ],\n",
       "       [1.4662459],\n",
       "       [1.4784948],\n",
       "       [1.4865515],\n",
       "       [1.4934787],\n",
       "       [1.5044258],\n",
       "       [1.477969 ],\n",
       "       [1.4188178],\n",
       "       [1.3522611],\n",
       "       [1.3085191],\n",
       "       [1.2949917],\n",
       "       [1.2987947],\n",
       "       [1.3071778],\n",
       "       [1.3133837],\n",
       "       [1.3171912],\n",
       "       [1.3083485],\n",
       "       [1.2874187],\n",
       "       [1.2784394],\n",
       "       [1.2894778],\n",
       "       [1.306889 ],\n",
       "       [1.3133498],\n",
       "       [1.311542 ],\n",
       "       [1.3067443],\n",
       "       [1.2986946],\n",
       "       [1.2874045],\n",
       "       [1.2763376],\n",
       "       [1.2623236],\n",
       "       [1.2487242],\n",
       "       [1.2340732],\n",
       "       [1.199005 ],\n",
       "       [1.1581681],\n",
       "       [1.1216838],\n",
       "       [1.0974507],\n",
       "       [1.0937581],\n",
       "       [1.110726 ],\n",
       "       [1.1380266],\n",
       "       [1.1643025],\n",
       "       [1.186453 ],\n",
       "       [1.2009237],\n",
       "       [1.2094351],\n",
       "       [1.2166324],\n",
       "       [1.2223914],\n",
       "       [1.2286639],\n",
       "       [1.2377369],\n",
       "       [1.2452955],\n",
       "       [1.2397062],\n",
       "       [1.221538 ],\n",
       "       [1.1977412],\n",
       "       [1.1778481],\n",
       "       [1.1715255],\n",
       "       [1.1815051],\n",
       "       [1.2040442],\n",
       "       [1.2329054],\n",
       "       [1.2544098],\n",
       "       [1.2667739],\n",
       "       [1.2762159],\n",
       "       [1.2850012],\n",
       "       [1.2922393],\n",
       "       [1.2983989],\n",
       "       [1.3036926],\n",
       "       [1.3048427],\n",
       "       [1.3021622],\n",
       "       [1.2920834],\n",
       "       [1.2809902],\n",
       "       [1.2756171],\n",
       "       [1.2735085],\n",
       "       [1.2711487],\n",
       "       [1.3077849],\n",
       "       [1.3685974],\n",
       "       [1.4233314],\n",
       "       [1.4530089],\n",
       "       [1.4548099],\n",
       "       [1.4335103],\n",
       "       [1.3880403],\n",
       "       [1.342796 ],\n",
       "       [1.3128734],\n",
       "       [1.3118529],\n",
       "       [1.3258023],\n",
       "       [1.3382891]], dtype=float32)"
      ]
     },
     "execution_count": 31,
     "metadata": {},
     "output_type": "execute_result"
    }
   ],
   "source": [
    "y_pred = model.predict(X_test)\n",
    "y_pred"
   ]
  },
  {
   "cell_type": "code",
   "execution_count": 32,
   "id": "d2f90ab8",
   "metadata": {
    "execution": {
     "iopub.execute_input": "2023-06-13T19:52:07.926272Z",
     "iopub.status.busy": "2023-06-13T19:52:07.925630Z",
     "iopub.status.idle": "2023-06-13T19:52:07.930850Z",
     "shell.execute_reply": "2023-06-13T19:52:07.929951Z"
    },
    "papermill": {
     "duration": 0.028405,
     "end_time": "2023-06-13T19:52:07.933325",
     "exception": false,
     "start_time": "2023-06-13T19:52:07.904920",
     "status": "completed"
    },
    "tags": []
   },
   "outputs": [],
   "source": [
    "predicted_price = sc.inverse_transform(y_pred)"
   ]
  },
  {
   "cell_type": "code",
   "execution_count": 33,
   "id": "e3ec42cd",
   "metadata": {
    "execution": {
     "iopub.execute_input": "2023-06-13T19:52:07.973540Z",
     "iopub.status.busy": "2023-06-13T19:52:07.973108Z",
     "iopub.status.idle": "2023-06-13T19:52:08.342447Z",
     "shell.execute_reply": "2023-06-13T19:52:08.341243Z"
    },
    "papermill": {
     "duration": 0.392421,
     "end_time": "2023-06-13T19:52:08.344946",
     "exception": false,
     "start_time": "2023-06-13T19:52:07.952525",
     "status": "completed"
    },
    "tags": []
   },
   "outputs": [
    {
     "data": {
      "image/png": "[encoded data removed]",
      "text/plain": [
       "<Figure size 640x480 with 1 Axes>"
      ]
     },
     "metadata": {},
     "output_type": "display_data"
    }
   ],
   "source": [
    "plt.plot(y_test, color = 'red', label = 'Actual Stock Price')\n",
    "plt.plot(predicted_price, color = 'green', label = 'Predicted Stock Price')\n",
    "plt.title('Google stock price prediction')\n",
    "plt.xlabel('Time')\n",
    "plt.ylabel('Stock Price')\n",
    "plt.legend()\n",
    "plt.show()"
   ]
  },
  {
   "cell_type": "code",
   "execution_count": null,
   "id": "2411737a",
   "metadata": {
    "papermill": {
     "duration": 0.019791,
     "end_time": "2023-06-13T19:52:08.384932",
     "exception": false,
     "start_time": "2023-06-13T19:52:08.365141",
     "status": "completed"
    },
    "tags": []
   },
   "outputs": [],
   "source": []
  }
 ],
 "metadata": {
  "kernelspec": {
   "display_name": "Python 3",
   "language": "python",
   "name": "python3"
  },
  "language_info": {
   "codemirror_mode": {
    "name": "ipython",
    "version": 3
   },
   "file_extension": ".py",
   "mimetype": "text/x-python",
   "name": "python",
   "nbconvert_exporter": "python",
   "pygments_lexer": "ipython3",
   "version": "3.10.10"
  },
  "papermill": {
   "default_parameters": {},
   "duration": 179.844392,
   "end_time": "2023-06-13T19:52:11.393718",
   "environment_variables": {},
   "exception": null,
   "input_path": "__notebook__.ipynb",
   "output_path": "__notebook__.ipynb",
   "parameters": {},
   "start_time": "2023-06-13T19:49:11.549326",
   "version": "2.4.0"
  }
 },
 "nbformat": 4,
 "nbformat_minor": 5
}
