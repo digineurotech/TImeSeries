{
 "cells": [
  {
   "cell_type": "code",
   "execution_count": 1,
   "id": "e5e9817f",
   "metadata": {
    "_cell_guid": "b1076dfc-b9ad-4769-8c92-a6c4dae69d19",
    "_uuid": "8f2839f25d086af736a60e9eeb907d3b93b6e0e5",
    "execution": {
     "iopub.execute_input": "2023-06-13T19:43:26.576497Z",
     "iopub.status.busy": "2023-06-13T19:43:26.576067Z",
     "iopub.status.idle": "2023-06-13T19:43:26.595029Z",
     "shell.execute_reply": "2023-06-13T19:43:26.593901Z"
    },
    "papermill": {
     "duration": 0.040195,
     "end_time": "2023-06-13T19:43:26.597403",
     "exception": false,
     "start_time": "2023-06-13T19:43:26.557208",
     "status": "completed"
    },
    "tags": []
   },
   "outputs": [
    {
     "name": "stdout",
     "output_type": "stream",
     "text": [
      "/kaggle/input/timeseries/tesla.csv\n",
      "/kaggle/input/timeseries/Google_test_data.csv\n",
      "/kaggle/input/timeseries/Google_train_data.csv\n"
     ]
    }
   ],
   "source": [
    "# This Python 3 environment comes with many helpful analytics libraries installed\n",
    "# It is defined by the kaggle/python Docker image: https://github.com/kaggle/docker-python\n",
    "# For example, here's several helpful packages to load\n",
    "\n",
    "import numpy as np # linear algebra\n",
    "import pandas as pd # data processing, CSV file I/O (e.g. pd.read_csv)\n",
    "\n",
    "# Input data files are available in the read-only \"../input/\" directory\n",
    "# For example, running this (by clicking run or pressing Shift+Enter) will list all files under the input directory\n",
    "\n",
    "import os\n",
    "for dirname, _, filenames in os.walk('/kaggle/input'):\n",
    "    for filename in filenames:\n",
    "        print(os.path.join(dirname, filename))\n",
    "\n",
    "# You can write up to 20GB to the current directory (/kaggle/working/) that gets preserved as output when you create a version using \"Save & Run All\" \n",
    "# You can also write temporary files to /kaggle/temp/, but they won't be saved outside of the current session"
   ]
  },
  {
   "cell_type": "code",
   "execution_count": 2,
   "id": "cafb54ed",
   "metadata": {
    "execution": {
     "iopub.execute_input": "2023-06-13T19:43:26.622884Z",
     "iopub.status.busy": "2023-06-13T19:43:26.622497Z",
     "iopub.status.idle": "2023-06-13T19:43:36.121793Z",
     "shell.execute_reply": "2023-06-13T19:43:36.120758Z"
    },
    "papermill": {
     "duration": 9.514882,
     "end_time": "2023-06-13T19:43:36.124400",
     "exception": false,
     "start_time": "2023-06-13T19:43:26.609518",
     "status": "completed"
    },
    "tags": []
   },
   "outputs": [
    {
     "name": "stderr",
     "output_type": "stream",
     "text": [
      "/opt/conda/lib/python3.10/site-packages/tensorflow_io/python/ops/__init__.py:98: UserWarning: unable to load libtensorflow_io_plugins.so: unable to open file: libtensorflow_io_plugins.so, from paths: ['/opt/conda/lib/python3.10/site-packages/tensorflow_io/python/ops/libtensorflow_io_plugins.so']\n",
      "caused by: ['/opt/conda/lib/python3.10/site-packages/tensorflow_io/python/ops/libtensorflow_io_plugins.so: undefined symbol: _ZN3tsl6StatusC1EN10tensorflow5error4CodeESt17basic_string_viewIcSt11char_traitsIcEENS_14SourceLocationE']\n",
      "  warnings.warn(f\"unable to load libtensorflow_io_plugins.so: {e}\")\n",
      "/opt/conda/lib/python3.10/site-packages/tensorflow_io/python/ops/__init__.py:104: UserWarning: file system plugins are not loaded: unable to open file: libtensorflow_io.so, from paths: ['/opt/conda/lib/python3.10/site-packages/tensorflow_io/python/ops/libtensorflow_io.so']\n",
      "caused by: ['/opt/conda/lib/python3.10/site-packages/tensorflow_io/python/ops/libtensorflow_io.so: undefined symbol: _ZTVN10tensorflow13GcsFileSystemE']\n",
      "  warnings.warn(f\"file system plugins are not loaded: {e}\")\n"
     ]
    }
   ],
   "source": [
    "import numpy as np\n",
    "import pandas as pd\n",
    "import matplotlib.pyplot as plt\n",
    "from sklearn.preprocessing import MinMaxScaler\n",
    "from tensorflow.keras.models import Sequential\n",
    "from tensorflow.keras.layers import Dense, LSTM, Dropout"
   ]
  },
  {
   "cell_type": "code",
   "execution_count": 3,
   "id": "9cfcf619",
   "metadata": {
    "execution": {
     "iopub.execute_input": "2023-06-13T19:43:36.148961Z",
     "iopub.status.busy": "2023-06-13T19:43:36.148190Z",
     "iopub.status.idle": "2023-06-13T19:43:36.200812Z",
     "shell.execute_reply": "2023-06-13T19:43:36.199809Z"
    },
    "papermill": {
     "duration": 0.067637,
     "end_time": "2023-06-13T19:43:36.203498",
     "exception": false,
     "start_time": "2023-06-13T19:43:36.135861",
     "status": "completed"
    },
    "tags": []
   },
   "outputs": [
    {
     "data": {
      "text/html": [
       "<div>\n",
       "<style scoped>\n",
       "    .dataframe tbody tr th:only-of-type {\n",
       "        vertical-align: middle;\n",
       "    }\n",
       "\n",
       "    .dataframe tbody tr th {\n",
       "        vertical-align: top;\n",
       "    }\n",
       "\n",
       "    .dataframe thead th {\n",
       "        text-align: right;\n",
       "    }\n",
       "</style>\n",
       "<table border=\"1\" class=\"dataframe\">\n",
       "  <thead>\n",
       "    <tr style=\"text-align: right;\">\n",
       "      <th></th>\n",
       "      <th>Date</th>\n",
       "      <th>Open</th>\n",
       "      <th>High</th>\n",
       "      <th>Low</th>\n",
       "      <th>Close</th>\n",
       "      <th>Volume</th>\n",
       "    </tr>\n",
       "  </thead>\n",
       "  <tbody>\n",
       "    <tr>\n",
       "      <th>0</th>\n",
       "      <td>1/3/2012</td>\n",
       "      <td>325.25</td>\n",
       "      <td>332.83</td>\n",
       "      <td>324.97</td>\n",
       "      <td>663.59</td>\n",
       "      <td>7,380,500</td>\n",
       "    </tr>\n",
       "    <tr>\n",
       "      <th>1</th>\n",
       "      <td>1/4/2012</td>\n",
       "      <td>331.27</td>\n",
       "      <td>333.87</td>\n",
       "      <td>329.08</td>\n",
       "      <td>666.45</td>\n",
       "      <td>5,749,400</td>\n",
       "    </tr>\n",
       "    <tr>\n",
       "      <th>2</th>\n",
       "      <td>1/5/2012</td>\n",
       "      <td>329.83</td>\n",
       "      <td>330.75</td>\n",
       "      <td>326.89</td>\n",
       "      <td>657.21</td>\n",
       "      <td>6,590,300</td>\n",
       "    </tr>\n",
       "    <tr>\n",
       "      <th>3</th>\n",
       "      <td>1/6/2012</td>\n",
       "      <td>328.34</td>\n",
       "      <td>328.77</td>\n",
       "      <td>323.68</td>\n",
       "      <td>648.24</td>\n",
       "      <td>5,405,900</td>\n",
       "    </tr>\n",
       "    <tr>\n",
       "      <th>4</th>\n",
       "      <td>1/9/2012</td>\n",
       "      <td>322.04</td>\n",
       "      <td>322.29</td>\n",
       "      <td>309.46</td>\n",
       "      <td>620.76</td>\n",
       "      <td>11,688,800</td>\n",
       "    </tr>\n",
       "  </tbody>\n",
       "</table>\n",
       "</div>"
      ],
      "text/plain": [
       "       Date    Open    High     Low   Close      Volume\n",
       "0  1/3/2012  325.25  332.83  324.97  663.59   7,380,500\n",
       "1  1/4/2012  331.27  333.87  329.08  666.45   5,749,400\n",
       "2  1/5/2012  329.83  330.75  326.89  657.21   6,590,300\n",
       "3  1/6/2012  328.34  328.77  323.68  648.24   5,405,900\n",
       "4  1/9/2012  322.04  322.29  309.46  620.76  11,688,800"
      ]
     },
     "execution_count": 3,
     "metadata": {},
     "output_type": "execute_result"
    }
   ],
   "source": [
    "data = pd.read_csv('/kaggle/input/timeseries/Google_train_data.csv')\n",
    "data.head()"
   ]
  },
  {
   "cell_type": "code",
   "execution_count": 4,
   "id": "6e125d7c",
   "metadata": {
    "execution": {
     "iopub.execute_input": "2023-06-13T19:43:36.227987Z",
     "iopub.status.busy": "2023-06-13T19:43:36.227613Z",
     "iopub.status.idle": "2023-06-13T19:43:36.254141Z",
     "shell.execute_reply": "2023-06-13T19:43:36.252498Z"
    },
    "papermill": {
     "duration": 0.041553,
     "end_time": "2023-06-13T19:43:36.256495",
     "exception": false,
     "start_time": "2023-06-13T19:43:36.214942",
     "status": "completed"
    },
    "tags": []
   },
   "outputs": [
    {
     "name": "stdout",
     "output_type": "stream",
     "text": [
      "<class 'pandas.core.frame.DataFrame'>\n",
      "RangeIndex: 1258 entries, 0 to 1257\n",
      "Data columns (total 6 columns):\n",
      " #   Column  Non-Null Count  Dtype  \n",
      "---  ------  --------------  -----  \n",
      " 0   Date    1258 non-null   object \n",
      " 1   Open    1258 non-null   float64\n",
      " 2   High    1258 non-null   float64\n",
      " 3   Low     1258 non-null   float64\n",
      " 4   Close   1258 non-null   object \n",
      " 5   Volume  1258 non-null   object \n",
      "dtypes: float64(3), object(3)\n",
      "memory usage: 59.1+ KB\n"
     ]
    }
   ],
   "source": [
    "data.info()"
   ]
  },
  {
   "cell_type": "code",
   "execution_count": 5,
   "id": "0f6c1b23",
   "metadata": {
    "execution": {
     "iopub.execute_input": "2023-06-13T19:43:36.280957Z",
     "iopub.status.busy": "2023-06-13T19:43:36.280568Z",
     "iopub.status.idle": "2023-06-13T19:43:36.291181Z",
     "shell.execute_reply": "2023-06-13T19:43:36.289920Z"
    },
    "papermill": {
     "duration": 0.025606,
     "end_time": "2023-06-13T19:43:36.293485",
     "exception": false,
     "start_time": "2023-06-13T19:43:36.267879",
     "status": "completed"
    },
    "tags": []
   },
   "outputs": [
    {
     "data": {
      "text/plain": [
       "Date      0\n",
       "Open      0\n",
       "High      0\n",
       "Low       0\n",
       "Close     0\n",
       "Volume    0\n",
       "dtype: int64"
      ]
     },
     "execution_count": 5,
     "metadata": {},
     "output_type": "execute_result"
    }
   ],
   "source": [
    "data.isnull().sum()"
   ]
  },
  {
   "cell_type": "code",
   "execution_count": 6,
   "id": "9bc81d3d",
   "metadata": {
    "execution": {
     "iopub.execute_input": "2023-06-13T19:43:36.318692Z",
     "iopub.status.busy": "2023-06-13T19:43:36.317563Z",
     "iopub.status.idle": "2023-06-13T19:43:36.327167Z",
     "shell.execute_reply": "2023-06-13T19:43:36.326162Z"
    },
    "papermill": {
     "duration": 0.025066,
     "end_time": "2023-06-13T19:43:36.330026",
     "exception": false,
     "start_time": "2023-06-13T19:43:36.304960",
     "status": "completed"
    },
    "tags": []
   },
   "outputs": [
    {
     "data": {
      "text/plain": [
       "0       663.59\n",
       "1       666.45\n",
       "2       657.21\n",
       "3       648.24\n",
       "4       620.76\n",
       "         ...  \n",
       "1253    789.91\n",
       "1254    791.55\n",
       "1255    785.05\n",
       "1256    782.79\n",
       "1257    771.82\n",
       "Name: Close, Length: 1258, dtype: object"
      ]
     },
     "execution_count": 6,
     "metadata": {},
     "output_type": "execute_result"
    }
   ],
   "source": [
    "data['Close']"
   ]
  },
  {
   "cell_type": "code",
   "execution_count": 7,
   "id": "6f556c4e",
   "metadata": {
    "execution": {
     "iopub.execute_input": "2023-06-13T19:43:36.355685Z",
     "iopub.status.busy": "2023-06-13T19:43:36.355294Z",
     "iopub.status.idle": "2023-06-13T19:43:36.366254Z",
     "shell.execute_reply": "2023-06-13T19:43:36.365211Z"
    },
    "papermill": {
     "duration": 0.026892,
     "end_time": "2023-06-13T19:43:36.368653",
     "exception": false,
     "start_time": "2023-06-13T19:43:36.341761",
     "status": "completed"
    },
    "tags": []
   },
   "outputs": [
    {
     "data": {
      "text/plain": [
       "0       663.59\n",
       "1       666.45\n",
       "2       657.21\n",
       "3       648.24\n",
       "4       620.76\n",
       "         ...  \n",
       "1253    789.91\n",
       "1254    791.55\n",
       "1255    785.05\n",
       "1256    782.79\n",
       "1257    771.82\n",
       "Name: Close, Length: 1258, dtype: float64"
      ]
     },
     "execution_count": 7,
     "metadata": {},
     "output_type": "execute_result"
    }
   ],
   "source": [
    "data['Close'] = pd.to_numeric(data.Close, errors='coerce')\n",
    "data.Close"
   ]
  },
  {
   "cell_type": "code",
   "execution_count": 8,
   "id": "7ce31a22",
   "metadata": {
    "execution": {
     "iopub.execute_input": "2023-06-13T19:43:36.394112Z",
     "iopub.status.busy": "2023-06-13T19:43:36.393737Z",
     "iopub.status.idle": "2023-06-13T19:43:36.407326Z",
     "shell.execute_reply": "2023-06-13T19:43:36.406208Z"
    },
    "papermill": {
     "duration": 0.029424,
     "end_time": "2023-06-13T19:43:36.410008",
     "exception": false,
     "start_time": "2023-06-13T19:43:36.380584",
     "status": "completed"
    },
    "tags": []
   },
   "outputs": [
    {
     "name": "stdout",
     "output_type": "stream",
     "text": [
      "<class 'pandas.core.frame.DataFrame'>\n",
      "RangeIndex: 1258 entries, 0 to 1257\n",
      "Data columns (total 6 columns):\n",
      " #   Column  Non-Null Count  Dtype  \n",
      "---  ------  --------------  -----  \n",
      " 0   Date    1258 non-null   object \n",
      " 1   Open    1258 non-null   float64\n",
      " 2   High    1258 non-null   float64\n",
      " 3   Low     1258 non-null   float64\n",
      " 4   Close   1149 non-null   float64\n",
      " 5   Volume  1258 non-null   object \n",
      "dtypes: float64(4), object(2)\n",
      "memory usage: 59.1+ KB\n"
     ]
    }
   ],
   "source": [
    "data.info()"
   ]
  },
  {
   "cell_type": "code",
   "execution_count": 9,
   "id": "7d27ab6f",
   "metadata": {
    "execution": {
     "iopub.execute_input": "2023-06-13T19:43:36.435715Z",
     "iopub.status.busy": "2023-06-13T19:43:36.435305Z",
     "iopub.status.idle": "2023-06-13T19:43:36.445388Z",
     "shell.execute_reply": "2023-06-13T19:43:36.444302Z"
    },
    "papermill": {
     "duration": 0.025673,
     "end_time": "2023-06-13T19:43:36.447691",
     "exception": false,
     "start_time": "2023-06-13T19:43:36.422018",
     "status": "completed"
    },
    "tags": []
   },
   "outputs": [
    {
     "data": {
      "text/plain": [
       "Date        0\n",
       "Open        0\n",
       "High        0\n",
       "Low         0\n",
       "Close     109\n",
       "Volume      0\n",
       "dtype: int64"
      ]
     },
     "execution_count": 9,
     "metadata": {},
     "output_type": "execute_result"
    }
   ],
   "source": [
    "data.isnull().sum()"
   ]
  },
  {
   "cell_type": "code",
   "execution_count": 10,
   "id": "f6e6ac78",
   "metadata": {
    "execution": {
     "iopub.execute_input": "2023-06-13T19:43:36.473406Z",
     "iopub.status.busy": "2023-06-13T19:43:36.473049Z",
     "iopub.status.idle": "2023-06-13T19:43:36.480806Z",
     "shell.execute_reply": "2023-06-13T19:43:36.479830Z"
    },
    "papermill": {
     "duration": 0.023489,
     "end_time": "2023-06-13T19:43:36.483198",
     "exception": false,
     "start_time": "2023-06-13T19:43:36.459709",
     "status": "completed"
    },
    "tags": []
   },
   "outputs": [],
   "source": [
    "data = data.dropna()"
   ]
  },
  {
   "cell_type": "code",
   "execution_count": 11,
   "id": "98b83a8a",
   "metadata": {
    "execution": {
     "iopub.execute_input": "2023-06-13T19:43:36.509113Z",
     "iopub.status.busy": "2023-06-13T19:43:36.508760Z",
     "iopub.status.idle": "2023-06-13T19:43:36.518519Z",
     "shell.execute_reply": "2023-06-13T19:43:36.517309Z"
    },
    "papermill": {
     "duration": 0.025876,
     "end_time": "2023-06-13T19:43:36.521088",
     "exception": false,
     "start_time": "2023-06-13T19:43:36.495212",
     "status": "completed"
    },
    "tags": []
   },
   "outputs": [
    {
     "data": {
      "text/plain": [
       "Date      0\n",
       "Open      0\n",
       "High      0\n",
       "Low       0\n",
       "Close     0\n",
       "Volume    0\n",
       "dtype: int64"
      ]
     },
     "execution_count": 11,
     "metadata": {},
     "output_type": "execute_result"
    }
   ],
   "source": [
    "data.isnull().sum()"
   ]
  },
  {
   "cell_type": "code",
   "execution_count": 12,
   "id": "fa28474d",
   "metadata": {
    "execution": {
     "iopub.execute_input": "2023-06-13T19:43:36.548134Z",
     "iopub.status.busy": "2023-06-13T19:43:36.547749Z",
     "iopub.status.idle": "2023-06-13T19:43:36.560300Z",
     "shell.execute_reply": "2023-06-13T19:43:36.559341Z"
    },
    "papermill": {
     "duration": 0.029134,
     "end_time": "2023-06-13T19:43:36.562591",
     "exception": false,
     "start_time": "2023-06-13T19:43:36.533457",
     "status": "completed"
    },
    "tags": []
   },
   "outputs": [
    {
     "name": "stdout",
     "output_type": "stream",
     "text": [
      "<class 'pandas.core.frame.DataFrame'>\n",
      "Int64Index: 1149 entries, 0 to 1257\n",
      "Data columns (total 6 columns):\n",
      " #   Column  Non-Null Count  Dtype  \n",
      "---  ------  --------------  -----  \n",
      " 0   Date    1149 non-null   object \n",
      " 1   Open    1149 non-null   float64\n",
      " 2   High    1149 non-null   float64\n",
      " 3   Low     1149 non-null   float64\n",
      " 4   Close   1149 non-null   float64\n",
      " 5   Volume  1149 non-null   object \n",
      "dtypes: float64(4), object(2)\n",
      "memory usage: 62.8+ KB\n"
     ]
    }
   ],
   "source": [
    "data.info()"
   ]
  },
  {
   "cell_type": "code",
   "execution_count": 13,
   "id": "08dce7e0",
   "metadata": {
    "execution": {
     "iopub.execute_input": "2023-06-13T19:43:36.588952Z",
     "iopub.status.busy": "2023-06-13T19:43:36.588591Z",
     "iopub.status.idle": "2023-06-13T19:43:36.607931Z",
     "shell.execute_reply": "2023-06-13T19:43:36.607169Z"
    },
    "papermill": {
     "duration": 0.035147,
     "end_time": "2023-06-13T19:43:36.610146",
     "exception": false,
     "start_time": "2023-06-13T19:43:36.574999",
     "status": "completed"
    },
    "tags": []
   },
   "outputs": [
    {
     "data": {
      "text/html": [
       "<div>\n",
       "<style scoped>\n",
       "    .dataframe tbody tr th:only-of-type {\n",
       "        vertical-align: middle;\n",
       "    }\n",
       "\n",
       "    .dataframe tbody tr th {\n",
       "        vertical-align: top;\n",
       "    }\n",
       "\n",
       "    .dataframe thead th {\n",
       "        text-align: right;\n",
       "    }\n",
       "</style>\n",
       "<table border=\"1\" class=\"dataframe\">\n",
       "  <thead>\n",
       "    <tr style=\"text-align: right;\">\n",
       "      <th></th>\n",
       "      <th>Date</th>\n",
       "      <th>Open</th>\n",
       "      <th>High</th>\n",
       "      <th>Low</th>\n",
       "      <th>Close</th>\n",
       "      <th>Volume</th>\n",
       "    </tr>\n",
       "  </thead>\n",
       "  <tbody>\n",
       "    <tr>\n",
       "      <th>0</th>\n",
       "      <td>1/3/2012</td>\n",
       "      <td>325.25</td>\n",
       "      <td>332.83</td>\n",
       "      <td>324.97</td>\n",
       "      <td>663.59</td>\n",
       "      <td>7,380,500</td>\n",
       "    </tr>\n",
       "    <tr>\n",
       "      <th>1</th>\n",
       "      <td>1/4/2012</td>\n",
       "      <td>331.27</td>\n",
       "      <td>333.87</td>\n",
       "      <td>329.08</td>\n",
       "      <td>666.45</td>\n",
       "      <td>5,749,400</td>\n",
       "    </tr>\n",
       "    <tr>\n",
       "      <th>2</th>\n",
       "      <td>1/5/2012</td>\n",
       "      <td>329.83</td>\n",
       "      <td>330.75</td>\n",
       "      <td>326.89</td>\n",
       "      <td>657.21</td>\n",
       "      <td>6,590,300</td>\n",
       "    </tr>\n",
       "    <tr>\n",
       "      <th>3</th>\n",
       "      <td>1/6/2012</td>\n",
       "      <td>328.34</td>\n",
       "      <td>328.77</td>\n",
       "      <td>323.68</td>\n",
       "      <td>648.24</td>\n",
       "      <td>5,405,900</td>\n",
       "    </tr>\n",
       "    <tr>\n",
       "      <th>4</th>\n",
       "      <td>1/9/2012</td>\n",
       "      <td>322.04</td>\n",
       "      <td>322.29</td>\n",
       "      <td>309.46</td>\n",
       "      <td>620.76</td>\n",
       "      <td>11,688,800</td>\n",
       "    </tr>\n",
       "    <tr>\n",
       "      <th>...</th>\n",
       "      <td>...</td>\n",
       "      <td>...</td>\n",
       "      <td>...</td>\n",
       "      <td>...</td>\n",
       "      <td>...</td>\n",
       "      <td>...</td>\n",
       "    </tr>\n",
       "    <tr>\n",
       "      <th>1253</th>\n",
       "      <td>12/23/2016</td>\n",
       "      <td>790.90</td>\n",
       "      <td>792.74</td>\n",
       "      <td>787.28</td>\n",
       "      <td>789.91</td>\n",
       "      <td>623,400</td>\n",
       "    </tr>\n",
       "    <tr>\n",
       "      <th>1254</th>\n",
       "      <td>12/27/2016</td>\n",
       "      <td>790.68</td>\n",
       "      <td>797.86</td>\n",
       "      <td>787.66</td>\n",
       "      <td>791.55</td>\n",
       "      <td>789,100</td>\n",
       "    </tr>\n",
       "    <tr>\n",
       "      <th>1255</th>\n",
       "      <td>12/28/2016</td>\n",
       "      <td>793.70</td>\n",
       "      <td>794.23</td>\n",
       "      <td>783.20</td>\n",
       "      <td>785.05</td>\n",
       "      <td>1,153,800</td>\n",
       "    </tr>\n",
       "    <tr>\n",
       "      <th>1256</th>\n",
       "      <td>12/29/2016</td>\n",
       "      <td>783.33</td>\n",
       "      <td>785.93</td>\n",
       "      <td>778.92</td>\n",
       "      <td>782.79</td>\n",
       "      <td>744,300</td>\n",
       "    </tr>\n",
       "    <tr>\n",
       "      <th>1257</th>\n",
       "      <td>12/30/2016</td>\n",
       "      <td>782.75</td>\n",
       "      <td>782.78</td>\n",
       "      <td>770.41</td>\n",
       "      <td>771.82</td>\n",
       "      <td>1,770,000</td>\n",
       "    </tr>\n",
       "  </tbody>\n",
       "</table>\n",
       "<p>1149 rows × 6 columns</p>\n",
       "</div>"
      ],
      "text/plain": [
       "            Date    Open    High     Low   Close      Volume\n",
       "0       1/3/2012  325.25  332.83  324.97  663.59   7,380,500\n",
       "1       1/4/2012  331.27  333.87  329.08  666.45   5,749,400\n",
       "2       1/5/2012  329.83  330.75  326.89  657.21   6,590,300\n",
       "3       1/6/2012  328.34  328.77  323.68  648.24   5,405,900\n",
       "4       1/9/2012  322.04  322.29  309.46  620.76  11,688,800\n",
       "...          ...     ...     ...     ...     ...         ...\n",
       "1253  12/23/2016  790.90  792.74  787.28  789.91     623,400\n",
       "1254  12/27/2016  790.68  797.86  787.66  791.55     789,100\n",
       "1255  12/28/2016  793.70  794.23  783.20  785.05   1,153,800\n",
       "1256  12/29/2016  783.33  785.93  778.92  782.79     744,300\n",
       "1257  12/30/2016  782.75  782.78  770.41  771.82   1,770,000\n",
       "\n",
       "[1149 rows x 6 columns]"
      ]
     },
     "execution_count": 13,
     "metadata": {},
     "output_type": "execute_result"
    }
   ],
   "source": [
    "data"
   ]
  },
  {
   "cell_type": "code",
   "execution_count": 14,
   "id": "ce8f26ad",
   "metadata": {
    "execution": {
     "iopub.execute_input": "2023-06-13T19:43:36.637443Z",
     "iopub.status.busy": "2023-06-13T19:43:36.637069Z",
     "iopub.status.idle": "2023-06-13T19:43:36.642562Z",
     "shell.execute_reply": "2023-06-13T19:43:36.641587Z"
    },
    "papermill": {
     "duration": 0.021856,
     "end_time": "2023-06-13T19:43:36.644742",
     "exception": false,
     "start_time": "2023-06-13T19:43:36.622886",
     "status": "completed"
    },
    "tags": []
   },
   "outputs": [],
   "source": [
    "trainData = data.iloc[:,4:5].values"
   ]
  },
  {
   "cell_type": "code",
   "execution_count": 15,
   "id": "827e8ff5",
   "metadata": {
    "execution": {
     "iopub.execute_input": "2023-06-13T19:43:36.671649Z",
     "iopub.status.busy": "2023-06-13T19:43:36.671265Z",
     "iopub.status.idle": "2023-06-13T19:43:36.678495Z",
     "shell.execute_reply": "2023-06-13T19:43:36.677197Z"
    },
    "papermill": {
     "duration": 0.023413,
     "end_time": "2023-06-13T19:43:36.680748",
     "exception": false,
     "start_time": "2023-06-13T19:43:36.657335",
     "status": "completed"
    },
    "tags": []
   },
   "outputs": [
    {
     "data": {
      "text/plain": [
       "array([[663.59],\n",
       "       [666.45],\n",
       "       [657.21],\n",
       "       ...,\n",
       "       [785.05],\n",
       "       [782.79],\n",
       "       [771.82]])"
      ]
     },
     "execution_count": 15,
     "metadata": {},
     "output_type": "execute_result"
    }
   ],
   "source": [
    "trainData"
   ]
  },
  {
   "cell_type": "markdown",
   "id": "96878004",
   "metadata": {
    "papermill": {
     "duration": 0.012548,
     "end_time": "2023-06-13T19:43:36.706012",
     "exception": false,
     "start_time": "2023-06-13T19:43:36.693464",
     "status": "completed"
    },
    "tags": []
   },
   "source": [
    "# MinMaxScaler\n",
    "X_std = (X - X.min(axis=0)) / (X.max(axis=0) - X.min(axis=0))\n",
    "X_scaled = X_std * (max - min) + min"
   ]
  },
  {
   "cell_type": "code",
   "execution_count": 16,
   "id": "ff10b359",
   "metadata": {
    "execution": {
     "iopub.execute_input": "2023-06-13T19:43:36.733588Z",
     "iopub.status.busy": "2023-06-13T19:43:36.732677Z",
     "iopub.status.idle": "2023-06-13T19:43:36.741799Z",
     "shell.execute_reply": "2023-06-13T19:43:36.740856Z"
    },
    "papermill": {
     "duration": 0.025362,
     "end_time": "2023-06-13T19:43:36.744034",
     "exception": false,
     "start_time": "2023-06-13T19:43:36.718672",
     "status": "completed"
    },
    "tags": []
   },
   "outputs": [
    {
     "data": {
      "text/plain": [
       "array([[0.40001392],\n",
       "       [0.40665027],\n",
       "       [0.38520976],\n",
       "       ...,\n",
       "       [0.68184982],\n",
       "       [0.67660572],\n",
       "       [0.65115092]])"
      ]
     },
     "execution_count": 16,
     "metadata": {},
     "output_type": "execute_result"
    }
   ],
   "source": [
    "sc = MinMaxScaler(feature_range=(0,1))\n",
    "trainData = sc.fit_transform(trainData)\n",
    "trainData"
   ]
  },
  {
   "cell_type": "code",
   "execution_count": 17,
   "id": "c7048a60",
   "metadata": {
    "execution": {
     "iopub.execute_input": "2023-06-13T19:43:36.771799Z",
     "iopub.status.busy": "2023-06-13T19:43:36.771399Z",
     "iopub.status.idle": "2023-06-13T19:43:36.777917Z",
     "shell.execute_reply": "2023-06-13T19:43:36.776703Z"
    },
    "papermill": {
     "duration": 0.023408,
     "end_time": "2023-06-13T19:43:36.780347",
     "exception": false,
     "start_time": "2023-06-13T19:43:36.756939",
     "status": "completed"
    },
    "tags": []
   },
   "outputs": [
    {
     "data": {
      "text/plain": [
       "(1149, 1)"
      ]
     },
     "execution_count": 17,
     "metadata": {},
     "output_type": "execute_result"
    }
   ],
   "source": [
    "trainData.shape"
   ]
  },
  {
   "cell_type": "code",
   "execution_count": 18,
   "id": "ab3f413e",
   "metadata": {
    "execution": {
     "iopub.execute_input": "2023-06-13T19:43:36.808761Z",
     "iopub.status.busy": "2023-06-13T19:43:36.808357Z",
     "iopub.status.idle": "2023-06-13T19:43:36.815125Z",
     "shell.execute_reply": "2023-06-13T19:43:36.814095Z"
    },
    "papermill": {
     "duration": 0.023951,
     "end_time": "2023-06-13T19:43:36.817572",
     "exception": false,
     "start_time": "2023-06-13T19:43:36.793621",
     "status": "completed"
    },
    "tags": []
   },
   "outputs": [],
   "source": [
    "X_train = []\n",
    "y_train = []\n",
    "for i in range(60,1149):\n",
    "    X_train.append(trainData[i-60:i,0])\n",
    "    y_train.append(trainData[i,0])"
   ]
  },
  {
   "cell_type": "code",
   "execution_count": 19,
   "id": "68c323ee",
   "metadata": {
    "execution": {
     "iopub.execute_input": "2023-06-13T19:43:36.846012Z",
     "iopub.status.busy": "2023-06-13T19:43:36.845633Z",
     "iopub.status.idle": "2023-06-13T19:43:36.854297Z",
     "shell.execute_reply": "2023-06-13T19:43:36.853217Z"
    },
    "papermill": {
     "duration": 0.025642,
     "end_time": "2023-06-13T19:43:36.856602",
     "exception": false,
     "start_time": "2023-06-13T19:43:36.830960",
     "status": "completed"
    },
    "tags": []
   },
   "outputs": [
    {
     "data": {
      "text/plain": [
       "array([0.40001392, 0.40665027, 0.38520976, 0.36439577, 0.30063115,\n",
       "       0.30218582, 0.30872935, 0.31724522, 0.30647856, 0.31478559,\n",
       "       0.32480973, 0.34021719, 0.21623817, 0.21514758, 0.20452014,\n",
       "       0.17804437, 0.17481901, 0.20231576, 0.19702525, 0.20261741,\n",
       "       0.2042881 , 0.21419621, 0.2401615 , 0.269677  , 0.26431687,\n",
       "       0.2714405 , 0.27517635, 0.26232133, 0.27687024, 0.27123167,\n",
       "       0.26150919, 0.26373677, 0.25937442, 0.28104696, 0.26703174,\n",
       "       0.26278541, 0.27155652, 0.27018749, 0.29121032, 0.29088547,\n",
       "       0.30049193, 0.29782346, 0.28162707, 0.26011695, 0.26438649,\n",
       "       0.26517542, 0.24923427, 0.26055782, 0.28979488, 0.28564136,\n",
       "       0.29754502, 0.30659458, 0.32726935, 0.32615556, 0.34116855,\n",
       "       0.35520698, 0.3472016 , 0.36279469, 0.35745777, 0.37766846])"
      ]
     },
     "execution_count": 19,
     "metadata": {},
     "output_type": "execute_result"
    }
   ],
   "source": [
    "X_train[0]"
   ]
  },
  {
   "cell_type": "code",
   "execution_count": 20,
   "id": "37c8004c",
   "metadata": {
    "execution": {
     "iopub.execute_input": "2023-06-13T19:43:36.884930Z",
     "iopub.status.busy": "2023-06-13T19:43:36.884521Z",
     "iopub.status.idle": "2023-06-13T19:43:36.891566Z",
     "shell.execute_reply": "2023-06-13T19:43:36.890815Z"
    },
    "papermill": {
     "duration": 0.023788,
     "end_time": "2023-06-13T19:43:36.893695",
     "exception": false,
     "start_time": "2023-06-13T19:43:36.869907",
     "status": "completed"
    },
    "tags": []
   },
   "outputs": [
    {
     "data": {
      "text/plain": [
       "0.36065992203452746"
      ]
     },
     "execution_count": 20,
     "metadata": {},
     "output_type": "execute_result"
    }
   ],
   "source": [
    "y_train[0]"
   ]
  },
  {
   "cell_type": "code",
   "execution_count": 21,
   "id": "ba08089c",
   "metadata": {
    "execution": {
     "iopub.execute_input": "2023-06-13T19:43:36.921946Z",
     "iopub.status.busy": "2023-06-13T19:43:36.921579Z",
     "iopub.status.idle": "2023-06-13T19:43:36.928779Z",
     "shell.execute_reply": "2023-06-13T19:43:36.927793Z"
    },
    "papermill": {
     "duration": 0.024185,
     "end_time": "2023-06-13T19:43:36.931172",
     "exception": false,
     "start_time": "2023-06-13T19:43:36.906987",
     "status": "completed"
    },
    "tags": []
   },
   "outputs": [],
   "source": [
    "X_train, y_train = np.array(X_train), np.array(y_train)"
   ]
  },
  {
   "cell_type": "code",
   "execution_count": 22,
   "id": "8d45d195",
   "metadata": {
    "execution": {
     "iopub.execute_input": "2023-06-13T19:43:36.959901Z",
     "iopub.status.busy": "2023-06-13T19:43:36.959525Z",
     "iopub.status.idle": "2023-06-13T19:43:36.967060Z",
     "shell.execute_reply": "2023-06-13T19:43:36.966040Z"
    },
    "papermill": {
     "duration": 0.024655,
     "end_time": "2023-06-13T19:43:36.969353",
     "exception": false,
     "start_time": "2023-06-13T19:43:36.944698",
     "status": "completed"
    },
    "tags": []
   },
   "outputs": [
    {
     "data": {
      "text/plain": [
       "array([0.40001392, 0.40665027, 0.38520976, 0.36439577, 0.30063115,\n",
       "       0.30218582, 0.30872935, 0.31724522, 0.30647856, 0.31478559,\n",
       "       0.32480973, 0.34021719, 0.21623817, 0.21514758, 0.20452014,\n",
       "       0.17804437, 0.17481901, 0.20231576, 0.19702525, 0.20261741,\n",
       "       0.2042881 , 0.21419621, 0.2401615 , 0.269677  , 0.26431687,\n",
       "       0.2714405 , 0.27517635, 0.26232133, 0.27687024, 0.27123167,\n",
       "       0.26150919, 0.26373677, 0.25937442, 0.28104696, 0.26703174,\n",
       "       0.26278541, 0.27155652, 0.27018749, 0.29121032, 0.29088547,\n",
       "       0.30049193, 0.29782346, 0.28162707, 0.26011695, 0.26438649,\n",
       "       0.26517542, 0.24923427, 0.26055782, 0.28979488, 0.28564136,\n",
       "       0.29754502, 0.30659458, 0.32726935, 0.32615556, 0.34116855,\n",
       "       0.35520698, 0.3472016 , 0.36279469, 0.35745777, 0.37766846])"
      ]
     },
     "execution_count": 22,
     "metadata": {},
     "output_type": "execute_result"
    }
   ],
   "source": [
    "X_train[0]"
   ]
  },
  {
   "cell_type": "code",
   "execution_count": 23,
   "id": "f00e39b5",
   "metadata": {
    "execution": {
     "iopub.execute_input": "2023-06-13T19:43:36.998772Z",
     "iopub.status.busy": "2023-06-13T19:43:36.998290Z",
     "iopub.status.idle": "2023-06-13T19:43:37.005915Z",
     "shell.execute_reply": "2023-06-13T19:43:37.004592Z"
    },
    "papermill": {
     "duration": 0.025114,
     "end_time": "2023-06-13T19:43:37.008248",
     "exception": false,
     "start_time": "2023-06-13T19:43:36.983134",
     "status": "completed"
    },
    "tags": []
   },
   "outputs": [
    {
     "data": {
      "text/plain": [
       "0.36065992203452746"
      ]
     },
     "execution_count": 23,
     "metadata": {},
     "output_type": "execute_result"
    }
   ],
   "source": [
    "y_train[0]"
   ]
  },
  {
   "cell_type": "code",
   "execution_count": 24,
   "id": "70219ff4",
   "metadata": {
    "execution": {
     "iopub.execute_input": "2023-06-13T19:43:37.038379Z",
     "iopub.status.busy": "2023-06-13T19:43:37.037933Z",
     "iopub.status.idle": "2023-06-13T19:43:37.044656Z",
     "shell.execute_reply": "2023-06-13T19:43:37.043798Z"
    },
    "papermill": {
     "duration": 0.024424,
     "end_time": "2023-06-13T19:43:37.047058",
     "exception": false,
     "start_time": "2023-06-13T19:43:37.022634",
     "status": "completed"
    },
    "tags": []
   },
   "outputs": [
    {
     "data": {
      "text/plain": [
       "(1089, 60)"
      ]
     },
     "execution_count": 24,
     "metadata": {},
     "output_type": "execute_result"
    }
   ],
   "source": [
    "X_train.shape"
   ]
  },
  {
   "cell_type": "code",
   "execution_count": 25,
   "id": "ff063d97",
   "metadata": {
    "execution": {
     "iopub.execute_input": "2023-06-13T19:43:37.077153Z",
     "iopub.status.busy": "2023-06-13T19:43:37.076768Z",
     "iopub.status.idle": "2023-06-13T19:43:37.083755Z",
     "shell.execute_reply": "2023-06-13T19:43:37.082895Z"
    },
    "papermill": {
     "duration": 0.024409,
     "end_time": "2023-06-13T19:43:37.085769",
     "exception": false,
     "start_time": "2023-06-13T19:43:37.061360",
     "status": "completed"
    },
    "tags": []
   },
   "outputs": [
    {
     "data": {
      "text/plain": [
       "(1089, 60, 1)"
      ]
     },
     "execution_count": 25,
     "metadata": {},
     "output_type": "execute_result"
    }
   ],
   "source": [
    "X_train = np.reshape(X_train, (X_train.shape[0], X_train.shape[1], 1))\n",
    "X_train.shape"
   ]
  },
  {
   "cell_type": "code",
   "execution_count": 26,
   "id": "a74d4bf1",
   "metadata": {
    "execution": {
     "iopub.execute_input": "2023-06-13T19:43:37.116004Z",
     "iopub.status.busy": "2023-06-13T19:43:37.115264Z",
     "iopub.status.idle": "2023-06-13T19:43:38.556896Z",
     "shell.execute_reply": "2023-06-13T19:43:38.555725Z"
    },
    "papermill": {
     "duration": 1.459839,
     "end_time": "2023-06-13T19:43:38.559730",
     "exception": false,
     "start_time": "2023-06-13T19:43:37.099891",
     "status": "completed"
    },
    "tags": []
   },
   "outputs": [],
   "source": [
    "model = Sequential()\n",
    "model.add(LSTM(units=100, return_sequences=True, input_shape=(X_train.shape[1],1)))\n",
    "model.add(Dropout(0.2))\n",
    "\n",
    "model.add(LSTM(units=100, return_sequences=True))\n",
    "model.add(Dropout(0.2))\n",
    "          \n",
    "model.add(LSTM(units=100, return_sequences=True))\n",
    "model.add(Dropout(0.2))\n",
    "          \n",
    "model.add(LSTM(units=100, return_sequences=False))\n",
    "model.add(Dropout(0.2))\n",
    "          \n",
    "model.add(Dense(units=1))\n",
    "model.compile(optimizer='adam', loss='mean_squared_error')"
   ]
  },
  {
   "cell_type": "code",
   "execution_count": 27,
   "id": "5db1b30a",
   "metadata": {
    "execution": {
     "iopub.execute_input": "2023-06-13T19:43:38.590064Z",
     "iopub.status.busy": "2023-06-13T19:43:38.589282Z",
     "iopub.status.idle": "2023-06-13T19:46:00.600106Z",
     "shell.execute_reply": "2023-06-13T19:46:00.599063Z"
    },
    "papermill": {
     "duration": 142.028939,
     "end_time": "2023-06-13T19:46:00.602810",
     "exception": false,
     "start_time": "2023-06-13T19:43:38.573871",
     "status": "completed"
    },
    "tags": []
   },
   "outputs": [
    {
     "name": "stdout",
     "output_type": "stream",
     "text": [
      "Epoch 1/20\n",
      "35/35 - 15s - loss: 0.0450 - 15s/epoch - 423ms/step\n",
      "Epoch 2/20\n",
      "35/35 - 7s - loss: 0.0117 - 7s/epoch - 197ms/step\n",
      "Epoch 3/20\n",
      "35/35 - 7s - loss: 0.0271 - 7s/epoch - 190ms/step\n",
      "Epoch 4/20\n",
      "35/35 - 7s - loss: 0.0108 - 7s/epoch - 190ms/step\n",
      "Epoch 5/20\n",
      "35/35 - 7s - loss: 0.0081 - 7s/epoch - 191ms/step\n",
      "Epoch 6/20\n",
      "35/35 - 7s - loss: 0.0071 - 7s/epoch - 190ms/step\n",
      "Epoch 7/20\n",
      "35/35 - 7s - loss: 0.0070 - 7s/epoch - 195ms/step\n",
      "Epoch 8/20\n",
      "35/35 - 7s - loss: 0.0152 - 7s/epoch - 190ms/step\n",
      "Epoch 9/20\n",
      "35/35 - 7s - loss: 0.0072 - 7s/epoch - 189ms/step\n",
      "Epoch 10/20\n",
      "35/35 - 7s - loss: 0.0062 - 7s/epoch - 188ms/step\n",
      "Epoch 11/20\n",
      "35/35 - 7s - loss: 0.0057 - 7s/epoch - 188ms/step\n",
      "Epoch 12/20\n",
      "35/35 - 7s - loss: 0.0056 - 7s/epoch - 198ms/step\n",
      "Epoch 13/20\n",
      "35/35 - 7s - loss: 0.0059 - 7s/epoch - 187ms/step\n",
      "Epoch 14/20\n",
      "35/35 - 7s - loss: 0.0056 - 7s/epoch - 189ms/step\n",
      "Epoch 15/20\n",
      "35/35 - 7s - loss: 0.0060 - 7s/epoch - 189ms/step\n",
      "Epoch 16/20\n",
      "35/35 - 7s - loss: 0.0054 - 7s/epoch - 193ms/step\n",
      "Epoch 17/20\n",
      "35/35 - 7s - loss: 0.0054 - 7s/epoch - 197ms/step\n",
      "Epoch 18/20\n",
      "35/35 - 7s - loss: 0.0049 - 7s/epoch - 188ms/step\n",
      "Epoch 19/20\n",
      "35/35 - 7s - loss: 0.0050 - 7s/epoch - 187ms/step\n",
      "Epoch 20/20\n",
      "35/35 - 7s - loss: 0.0049 - 7s/epoch - 190ms/step\n"
     ]
    }
   ],
   "source": [
    "hist = model.fit(X_train, y_train, epochs=20, batch_size=32, verbose=2)"
   ]
  },
  {
   "cell_type": "code",
   "execution_count": 28,
   "id": "53983ee0",
   "metadata": {
    "execution": {
     "iopub.execute_input": "2023-06-13T19:46:00.640095Z",
     "iopub.status.busy": "2023-06-13T19:46:00.639382Z",
     "iopub.status.idle": "2023-06-13T19:46:00.646214Z",
     "shell.execute_reply": "2023-06-13T19:46:00.645165Z"
    },
    "papermill": {
     "duration": 0.027863,
     "end_time": "2023-06-13T19:46:00.648370",
     "exception": false,
     "start_time": "2023-06-13T19:46:00.620507",
     "status": "completed"
    },
    "tags": []
   },
   "outputs": [
    {
     "data": {
      "text/plain": [
       "[0.04502658545970917,\n",
       " 0.011699812486767769,\n",
       " 0.027135727927088737,\n",
       " 0.010824940167367458,\n",
       " 0.00808959174901247,\n",
       " 0.007080876734107733,\n",
       " 0.007031627930700779,\n",
       " 0.01521619688719511,\n",
       " 0.007162888068705797,\n",
       " 0.006166000850498676,\n",
       " 0.005666233133524656,\n",
       " 0.005595910828560591,\n",
       " 0.0058556715957820415,\n",
       " 0.005590794607996941,\n",
       " 0.005987201351672411,\n",
       " 0.005365364719182253,\n",
       " 0.0054252734407782555,\n",
       " 0.004889633972197771,\n",
       " 0.004991498310118914,\n",
       " 0.00492973392829299]"
      ]
     },
     "execution_count": 28,
     "metadata": {},
     "output_type": "execute_result"
    }
   ],
   "source": [
    "hist.history['loss']"
   ]
  },
  {
   "cell_type": "code",
   "execution_count": 29,
   "id": "d3f43993",
   "metadata": {
    "execution": {
     "iopub.execute_input": "2023-06-13T19:46:00.686142Z",
     "iopub.status.busy": "2023-06-13T19:46:00.685749Z",
     "iopub.status.idle": "2023-06-13T19:46:01.354401Z",
     "shell.execute_reply": "2023-06-13T19:46:01.353249Z"
    },
    "papermill": {
     "duration": 0.690716,
     "end_time": "2023-06-13T19:46:01.357219",
     "exception": false,
     "start_time": "2023-06-13T19:46:00.666503",
     "status": "completed"
    },
    "tags": []
   },
   "outputs": [
    {
     "data": {
      "image/png": "[encoded data removed]",
      "text/plain": [
       "<Figure size 640x480 with 1 Axes>"
      ]
     },
     "metadata": {},
     "output_type": "display_data"
    }
   ],
   "source": [
    "plt.plot(hist.history['loss'])\n",
    "plt.title('Training Model Loss')\n",
    "plt.xlabel('Epochs')\n",
    "plt.ylabel('Loss')\n",
    "plt.legend(['train'], loc='upper left')\n",
    "plt.show()"
   ]
  },
  {
   "cell_type": "code",
   "execution_count": 30,
   "id": "20fabe72",
   "metadata": {
    "execution": {
     "iopub.execute_input": "2023-06-13T19:46:01.397202Z",
     "iopub.status.busy": "2023-06-13T19:46:01.396802Z",
     "iopub.status.idle": "2023-06-13T19:46:01.420307Z",
     "shell.execute_reply": "2023-06-13T19:46:01.419479Z"
    },
    "papermill": {
     "duration": 0.046187,
     "end_time": "2023-06-13T19:46:01.422472",
     "exception": false,
     "start_time": "2023-06-13T19:46:01.376285",
     "status": "completed"
    },
    "tags": []
   },
   "outputs": [
    {
     "data": {
      "text/plain": [
       "(192, 60, 1)"
      ]
     },
     "execution_count": 30,
     "metadata": {},
     "output_type": "execute_result"
    }
   ],
   "source": [
    "testData = pd.read_csv('/kaggle/input/timeseries/Google_test_data.csv')\n",
    "testData[\"Close\"]=pd.to_numeric(testData.Close,errors='coerce')\n",
    "testData = testData.dropna()\n",
    "testData = testData.iloc[:,4:5]\n",
    "y_test = testData.iloc[60:,0:].values \n",
    "#input array for the model\n",
    "inputClosing = testData.iloc[:,0:].values \n",
    "inputClosing_scaled = sc.transform(inputClosing)\n",
    "inputClosing_scaled.shape\n",
    "X_test = []\n",
    "length = len(testData)\n",
    "timestep = 60\n",
    "for i in range(timestep,length):  \n",
    "    X_test.append(inputClosing_scaled[i-timestep:i,0])\n",
    "X_test = np.array(X_test)\n",
    "X_test = np.reshape(X_test,(X_test.shape[0],X_test.shape[1],1))\n",
    "X_test.shape"
   ]
  },
  {
   "cell_type": "code",
   "execution_count": 31,
   "id": "420aa4af",
   "metadata": {
    "execution": {
     "iopub.execute_input": "2023-06-13T19:46:01.461959Z",
     "iopub.status.busy": "2023-06-13T19:46:01.460912Z",
     "iopub.status.idle": "2023-06-13T19:46:03.433119Z",
     "shell.execute_reply": "2023-06-13T19:46:03.432266Z"
    },
    "papermill": {
     "duration": 1.994152,
     "end_time": "2023-06-13T19:46:03.435208",
     "exception": false,
     "start_time": "2023-06-13T19:46:01.441056",
     "status": "completed"
    },
    "tags": []
   },
   "outputs": [
    {
     "name": "stdout",
     "output_type": "stream",
     "text": [
      "6/6 [==============================] - 2s 51ms/step\n"
     ]
    },
    {
     "data": {
      "text/plain": [
       "array([[1.1481556],\n",
       "       [1.1489972],\n",
       "       [1.1563599],\n",
       "       [1.1693935],\n",
       "       [1.1829883],\n",
       "       [1.1897032],\n",
       "       [1.187039 ],\n",
       "       [1.1777372],\n",
       "       [1.1684518],\n",
       "       [1.1624591],\n",
       "       [1.1548327],\n",
       "       [1.1445649],\n",
       "       [1.1343184],\n",
       "       [1.1243619],\n",
       "       [1.1187214],\n",
       "       [1.1182375],\n",
       "       [1.1277479],\n",
       "       [1.1470606],\n",
       "       [1.1731157],\n",
       "       [1.2026553],\n",
       "       [1.2234055],\n",
       "       [1.2327609],\n",
       "       [1.2276181],\n",
       "       [1.2109673],\n",
       "       [1.1898702],\n",
       "       [1.1715717],\n",
       "       [1.1594069],\n",
       "       [1.1511314],\n",
       "       [1.1414789],\n",
       "       [1.1306326],\n",
       "       [1.1193122],\n",
       "       [1.1070617],\n",
       "       [1.0907332],\n",
       "       [1.0704741],\n",
       "       [1.0572444],\n",
       "       [1.0566982],\n",
       "       [1.0675747],\n",
       "       [1.0853752],\n",
       "       [1.1065309],\n",
       "       [1.1233734],\n",
       "       [1.1397338],\n",
       "       [1.1568124],\n",
       "       [1.1748245],\n",
       "       [1.1919845],\n",
       "       [1.2056357],\n",
       "       [1.2124357],\n",
       "       [1.2101593],\n",
       "       [1.2046641],\n",
       "       [1.2004267],\n",
       "       [1.200433 ],\n",
       "       [1.2058655],\n",
       "       [1.2113625],\n",
       "       [1.2144454],\n",
       "       [1.2142403],\n",
       "       [1.2136972],\n",
       "       [1.2114216],\n",
       "       [1.205798 ],\n",
       "       [1.2012484],\n",
       "       [1.203892 ],\n",
       "       [1.2138171],\n",
       "       [1.2314051],\n",
       "       [1.2555531],\n",
       "       [1.2778652],\n",
       "       [1.2907366],\n",
       "       [1.291812 ],\n",
       "       [1.2831844],\n",
       "       [1.2726991],\n",
       "       [1.2648072],\n",
       "       [1.2612371],\n",
       "       [1.2604464],\n",
       "       [1.2615954],\n",
       "       [1.2630675],\n",
       "       [1.2615421],\n",
       "       [1.2583406],\n",
       "       [1.2547692],\n",
       "       [1.2526093],\n",
       "       [1.2525876],\n",
       "       [1.2550055],\n",
       "       [1.262248 ],\n",
       "       [1.2747395],\n",
       "       [1.2924595],\n",
       "       [1.3121326],\n",
       "       [1.3280702],\n",
       "       [1.3373092],\n",
       "       [1.3446167],\n",
       "       [1.3547419],\n",
       "       [1.368064 ],\n",
       "       [1.381315 ],\n",
       "       [1.3915681],\n",
       "       [1.3973739],\n",
       "       [1.4009296],\n",
       "       [1.4071857],\n",
       "       [1.4180328],\n",
       "       [1.4279045],\n",
       "       [1.4316018],\n",
       "       [1.4268959],\n",
       "       [1.4136913],\n",
       "       [1.3944801],\n",
       "       [1.3739966],\n",
       "       [1.3591998],\n",
       "       [1.3535719],\n",
       "       [1.3573651],\n",
       "       [1.3692772],\n",
       "       [1.3846194],\n",
       "       [1.3988726],\n",
       "       [1.4084742],\n",
       "       [1.4133161],\n",
       "       [1.4147513],\n",
       "       [1.4161415],\n",
       "       [1.4192249],\n",
       "       [1.4247754],\n",
       "       [1.4332665],\n",
       "       [1.4433327],\n",
       "       [1.4549564],\n",
       "       [1.4691387],\n",
       "       [1.4830685],\n",
       "       [1.4954492],\n",
       "       [1.5063887],\n",
       "       [1.5176802],\n",
       "       [1.5134215],\n",
       "       [1.4881504],\n",
       "       [1.4466573],\n",
       "       [1.4020141],\n",
       "       [1.3643912],\n",
       "       [1.3366019],\n",
       "       [1.3180689],\n",
       "       [1.3071011],\n",
       "       [1.3024969],\n",
       "       [1.2981899],\n",
       "       [1.29043  ],\n",
       "       [1.2859857],\n",
       "       [1.2902148],\n",
       "       [1.3007796],\n",
       "       [1.3107024],\n",
       "       [1.3179816],\n",
       "       [1.3225532],\n",
       "       [1.3234267],\n",
       "       [1.3200209],\n",
       "       [1.3135489],\n",
       "       [1.3032411],\n",
       "       [1.2906295],\n",
       "       [1.275846 ],\n",
       "       [1.2508057],\n",
       "       [1.2185875],\n",
       "       [1.1835152],\n",
       "       [1.151099 ],\n",
       "       [1.1284742],\n",
       "       [1.1202699],\n",
       "       [1.1256626],\n",
       "       [1.1404556],\n",
       "       [1.1612439],\n",
       "       [1.1835161],\n",
       "       [1.204592 ],\n",
       "       [1.2239647],\n",
       "       [1.2404945],\n",
       "       [1.2544677],\n",
       "       [1.2671068],\n",
       "       [1.2773342],\n",
       "       [1.2800132],\n",
       "       [1.2732978],\n",
       "       [1.2586377],\n",
       "       [1.240364 ],\n",
       "       [1.224902 ],\n",
       "       [1.2172772],\n",
       "       [1.2196409],\n",
       "       [1.2315952],\n",
       "       [1.2474546],\n",
       "       [1.2636437],\n",
       "       [1.2797945],\n",
       "       [1.295355 ],\n",
       "       [1.3091888],\n",
       "       [1.320904 ],\n",
       "       [1.3303734],\n",
       "       [1.3361914],\n",
       "       [1.3380238],\n",
       "       [1.3340583],\n",
       "       [1.3262595],\n",
       "       [1.3181741],\n",
       "       [1.3106654],\n",
       "       [1.3034508],\n",
       "       [1.3140879],\n",
       "       [1.3439809],\n",
       "       [1.3837718],\n",
       "       [1.4218448],\n",
       "       [1.4494697],\n",
       "       [1.4614785],\n",
       "       [1.4526755],\n",
       "       [1.4297092],\n",
       "       [1.4013582],\n",
       "       [1.379116 ],\n",
       "       [1.365079 ],\n",
       "       [1.3565966]], dtype=float32)"
      ]
     },
     "execution_count": 31,
     "metadata": {},
     "output_type": "execute_result"
    }
   ],
   "source": [
    "y_pred = model.predict(X_test)\n",
    "y_pred"
   ]
  },
  {
   "cell_type": "code",
   "execution_count": 32,
   "id": "04a67f3b",
   "metadata": {
    "execution": {
     "iopub.execute_input": "2023-06-13T19:46:03.475843Z",
     "iopub.status.busy": "2023-06-13T19:46:03.475009Z",
     "iopub.status.idle": "2023-06-13T19:46:03.480591Z",
     "shell.execute_reply": "2023-06-13T19:46:03.479549Z"
    },
    "papermill": {
     "duration": 0.028235,
     "end_time": "2023-06-13T19:46:03.482856",
     "exception": false,
     "start_time": "2023-06-13T19:46:03.454621",
     "status": "completed"
    },
    "tags": []
   },
   "outputs": [],
   "source": [
    "predicted_price = sc.inverse_transform(y_pred)"
   ]
  },
  {
   "cell_type": "code",
   "execution_count": 33,
   "id": "32b6ac0c",
   "metadata": {
    "execution": {
     "iopub.execute_input": "2023-06-13T19:46:03.522367Z",
     "iopub.status.busy": "2023-06-13T19:46:03.521940Z",
     "iopub.status.idle": "2023-06-13T19:46:03.888076Z",
     "shell.execute_reply": "2023-06-13T19:46:03.886877Z"
    },
    "papermill": {
     "duration": 0.388517,
     "end_time": "2023-06-13T19:46:03.890470",
     "exception": false,
     "start_time": "2023-06-13T19:46:03.501953",
     "status": "completed"
    },
    "tags": []
   },
   "outputs": [
    {
     "data": {
      "image/png": "[encoded data removed]",
      "text/plain": [
       "<Figure size 640x480 with 1 Axes>"
      ]
     },
     "metadata": {},
     "output_type": "display_data"
    }
   ],
   "source": [
    "plt.plot(y_test, color = 'red', label = 'Actual Stock Price')\n",
    "plt.plot(predicted_price, color = 'green', label = 'Predicted Stock Price')\n",
    "plt.title('Google stock price prediction')\n",
    "plt.xlabel('Time')\n",
    "plt.ylabel('Stock Price')\n",
    "plt.legend()\n",
    "plt.show()"
   ]
  },
  {
   "cell_type": "code",
   "execution_count": null,
   "id": "d1273c01",
   "metadata": {
    "papermill": {
     "duration": 0.019701,
     "end_time": "2023-06-13T19:46:03.930551",
     "exception": false,
     "start_time": "2023-06-13T19:46:03.910850",
     "status": "completed"
    },
    "tags": []
   },
   "outputs": [],
   "source": []
  }
 ],
 "metadata": {
  "kernelspec": {
   "display_name": "Python 3",
   "language": "python",
   "name": "python3"
  },
  "language_info": {
   "codemirror_mode": {
    "name": "ipython",
    "version": 3
   },
   "file_extension": ".py",
   "mimetype": "text/x-python",
   "name": "python",
   "nbconvert_exporter": "python",
   "pygments_lexer": "ipython3",
   "version": "3.10.10"
  },
  "papermill": {
   "default_parameters": {},
   "duration": 171.749167,
   "end_time": "2023-06-13T19:46:06.668828",
   "environment_variables": {},
   "exception": null,
   "input_path": "__notebook__.ipynb",
   "output_path": "__notebook__.ipynb",
   "parameters": {},
   "start_time": "2023-06-13T19:43:14.919661",
   "version": "2.4.0"
  }
 },
 "nbformat": 4,
 "nbformat_minor": 5
}
